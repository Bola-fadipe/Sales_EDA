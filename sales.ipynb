{
  "nbformat": 4,
  "nbformat_minor": 0,
  "metadata": {
    "colab": {
      "name": "sales.ipynb",
      "provenance": [],
      "collapsed_sections": [],
      "authorship_tag": "ABX9TyMV1p7/a3NNGFXM6p2CMQQl",
      "include_colab_link": true
    },
    "kernelspec": {
      "name": "python3",
      "display_name": "Python 3"
    },
    "language_info": {
      "name": "python"
    }
  },
  "cells": [
    {
      "cell_type": "markdown",
      "metadata": {
        "id": "view-in-github",
        "colab_type": "text"
      },
      "source": [
        "<a href=\"https://colab.research.google.com/github/Bola-fadipe/Sales_EDA/blob/main/sales.ipynb\" target=\"_parent\"><img src=\"https://colab.research.google.com/assets/colab-badge.svg\" alt=\"Open In Colab\"/></a>"
      ]
    },
    {
      "cell_type": "markdown",
      "metadata": {
        "id": "r7WO-LGNoOK1"
      },
      "source": [
        "# Exploratory data analysis of a sales dataset\n",
        "- data was sourced from : https://github.com/KeithGalli/Pandas-Data-Science-Tasks (Thanks Keith Galli :))\n",
        "- the folder consist of files containing 12 months of sales data\n",
        "- data analysis will be done in google colaboratory"
      ]
    },
    {
      "cell_type": "code",
      "metadata": {
        "id": "10bzJZqld0zD"
      },
      "source": [
        "# Importing necessary libraries/modules\n",
        "import pandas as pd\n",
        "import numpy as np\n",
        "import matplotlib.pyplot as plt\n",
        "import seaborn as sns\n",
        "\n",
        "import glob"
      ],
      "execution_count": 54,
      "outputs": []
    },
    {
      "cell_type": "code",
      "metadata": {
        "id": "tKeuQJ02iodo"
      },
      "source": [
        "# getting a list of all files in the folder with matching pattern\n",
        "path = '/content/sales'\n",
        "files =  glob.glob(path + '/*.csv')\n"
      ],
      "execution_count": 3,
      "outputs": []
    },
    {
      "cell_type": "code",
      "metadata": {
        "colab": {
          "base_uri": "https://localhost:8080/"
        },
        "id": "uOK6k538lNmX",
        "outputId": "078f6d18-2445-4700-e9f2-1ff740b22d5e"
      },
      "source": [
        "print(files)"
      ],
      "execution_count": 4,
      "outputs": [
        {
          "output_type": "stream",
          "text": [
            "['/content/sales/Sales_March_2019.csv', '/content/sales/Sales_April_2019.csv', '/content/sales/Sales_August_2019.csv', '/content/sales/Sales_September_2019.csv', '/content/sales/Sales_October_2019.csv', '/content/sales/Sales_May_2019.csv', '/content/sales/Sales_December_2019.csv', '/content/sales/Sales_July_2019.csv', '/content/sales/Sales_November_2019.csv', '/content/sales/Sales_June_2019.csv', '/content/sales/Sales_February_2019.csv', '/content/sales/Sales_January_2019.csv']\n"
          ],
          "name": "stdout"
        }
      ]
    },
    {
      "cell_type": "code",
      "metadata": {
        "id": "bvwRW7QNjWYo"
      },
      "source": [
        "# initialising an empty sales list\n",
        "sales = []"
      ],
      "execution_count": 5,
      "outputs": []
    },
    {
      "cell_type": "code",
      "metadata": {
        "colab": {
          "base_uri": "https://localhost:8080/"
        },
        "id": "hGA1zl9sjlcr",
        "outputId": "30168fab-4c01-4780-a97a-22995a5ca3d2"
      },
      "source": [
        "# looping through all the file in files and creating dataframes which are saved to the empty sales list\n",
        "for file in files:\n",
        "  sales_data = pd.read_csv(file)\n",
        "  sales.append(sales_data)\n",
        "  print(f'Successfully created dataframe for {file} with shape {sales_data.shape}') # check if iteration was successful"
      ],
      "execution_count": 6,
      "outputs": [
        {
          "output_type": "stream",
          "text": [
            "Successfully created dataframe for /content/sales/Sales_March_2019.csv with shape (15226, 6)\n",
            "Successfully created dataframe for /content/sales/Sales_April_2019.csv with shape (18383, 6)\n",
            "Successfully created dataframe for /content/sales/Sales_August_2019.csv with shape (12011, 6)\n",
            "Successfully created dataframe for /content/sales/Sales_September_2019.csv with shape (11686, 6)\n",
            "Successfully created dataframe for /content/sales/Sales_October_2019.csv with shape (20379, 6)\n",
            "Successfully created dataframe for /content/sales/Sales_May_2019.csv with shape (16635, 6)\n",
            "Successfully created dataframe for /content/sales/Sales_December_2019.csv with shape (25117, 6)\n",
            "Successfully created dataframe for /content/sales/Sales_July_2019.csv with shape (14371, 6)\n",
            "Successfully created dataframe for /content/sales/Sales_November_2019.csv with shape (17661, 6)\n",
            "Successfully created dataframe for /content/sales/Sales_June_2019.csv with shape (13622, 6)\n",
            "Successfully created dataframe for /content/sales/Sales_February_2019.csv with shape (12036, 6)\n",
            "Successfully created dataframe for /content/sales/Sales_January_2019.csv with shape (9723, 6)\n"
          ],
          "name": "stdout"
        }
      ]
    },
    {
      "cell_type": "code",
      "metadata": {
        "id": "ZndUjL9mkfw6"
      },
      "source": [
        "# joining each created created dataframe vertically\n",
        "data = pd.concat(sales, axis = 0)"
      ],
      "execution_count": 7,
      "outputs": []
    },
    {
      "cell_type": "code",
      "metadata": {
        "id": "J27WOtOImaTq"
      },
      "source": [
        "# creating a copy of the dataframe in order to have a backup\n",
        "df = data.copy()"
      ],
      "execution_count": 8,
      "outputs": []
    },
    {
      "cell_type": "markdown",
      "metadata": {
        "id": "XXlglgWSrzZd"
      },
      "source": [
        "### View of basic info about the data "
      ]
    },
    {
      "cell_type": "code",
      "metadata": {
        "colab": {
          "base_uri": "https://localhost:8080/"
        },
        "id": "oYtdNjaFkqJ6",
        "outputId": "3cb9c53b-c788-44b5-8ec0-0e2a967ce7ae"
      },
      "source": [
        "df.shape"
      ],
      "execution_count": 9,
      "outputs": [
        {
          "output_type": "execute_result",
          "data": {
            "text/plain": [
              "(186850, 6)"
            ]
          },
          "metadata": {
            "tags": []
          },
          "execution_count": 9
        }
      ]
    },
    {
      "cell_type": "code",
      "metadata": {
        "colab": {
          "base_uri": "https://localhost:8080/",
          "height": 204
        },
        "id": "imaqMBlPl0n2",
        "outputId": "6c9e2d11-ecb1-448d-f84f-afe5eb9954a7"
      },
      "source": [
        "df.sample(5)"
      ],
      "execution_count": 10,
      "outputs": [
        {
          "output_type": "execute_result",
          "data": {
            "text/html": [
              "<div>\n",
              "<style scoped>\n",
              "    .dataframe tbody tr th:only-of-type {\n",
              "        vertical-align: middle;\n",
              "    }\n",
              "\n",
              "    .dataframe tbody tr th {\n",
              "        vertical-align: top;\n",
              "    }\n",
              "\n",
              "    .dataframe thead th {\n",
              "        text-align: right;\n",
              "    }\n",
              "</style>\n",
              "<table border=\"1\" class=\"dataframe\">\n",
              "  <thead>\n",
              "    <tr style=\"text-align: right;\">\n",
              "      <th></th>\n",
              "      <th>Order ID</th>\n",
              "      <th>Product</th>\n",
              "      <th>Quantity Ordered</th>\n",
              "      <th>Price Each</th>\n",
              "      <th>Order Date</th>\n",
              "      <th>Purchase Address</th>\n",
              "    </tr>\n",
              "  </thead>\n",
              "  <tbody>\n",
              "    <tr>\n",
              "      <th>11177</th>\n",
              "      <td>220582</td>\n",
              "      <td>Flatscreen TV</td>\n",
              "      <td>1</td>\n",
              "      <td>300</td>\n",
              "      <td>06/07/19 13:53</td>\n",
              "      <td>311 Chestnut St, San Francisco, CA 94016</td>\n",
              "    </tr>\n",
              "    <tr>\n",
              "      <th>778</th>\n",
              "      <td>141982</td>\n",
              "      <td>27in FHD Monitor</td>\n",
              "      <td>1</td>\n",
              "      <td>149.99</td>\n",
              "      <td>01/11/19 15:57</td>\n",
              "      <td>624 Highland St, Atlanta, GA 30301</td>\n",
              "    </tr>\n",
              "    <tr>\n",
              "      <th>6402</th>\n",
              "      <td>168117</td>\n",
              "      <td>Wired Headphones</td>\n",
              "      <td>1</td>\n",
              "      <td>11.99</td>\n",
              "      <td>03/04/19 10:55</td>\n",
              "      <td>448 Highland St, Portland, OR 97035</td>\n",
              "    </tr>\n",
              "    <tr>\n",
              "      <th>5828</th>\n",
              "      <td>253741</td>\n",
              "      <td>27in 4K Gaming Monitor</td>\n",
              "      <td>1</td>\n",
              "      <td>389.99</td>\n",
              "      <td>09/17/19 10:54</td>\n",
              "      <td>859 13th St, Portland, OR 97035</td>\n",
              "    </tr>\n",
              "    <tr>\n",
              "      <th>1302</th>\n",
              "      <td>142472</td>\n",
              "      <td>AAA Batteries (4-pack)</td>\n",
              "      <td>2</td>\n",
              "      <td>2.99</td>\n",
              "      <td>01/19/19 10:03</td>\n",
              "      <td>410 6th St, Boston, MA 02215</td>\n",
              "    </tr>\n",
              "  </tbody>\n",
              "</table>\n",
              "</div>"
            ],
            "text/plain": [
              "      Order ID  ...                          Purchase Address\n",
              "11177   220582  ...  311 Chestnut St, San Francisco, CA 94016\n",
              "778     141982  ...        624 Highland St, Atlanta, GA 30301\n",
              "6402    168117  ...       448 Highland St, Portland, OR 97035\n",
              "5828    253741  ...           859 13th St, Portland, OR 97035\n",
              "1302    142472  ...              410 6th St, Boston, MA 02215\n",
              "\n",
              "[5 rows x 6 columns]"
            ]
          },
          "metadata": {
            "tags": []
          },
          "execution_count": 10
        }
      ]
    },
    {
      "cell_type": "code",
      "metadata": {
        "colab": {
          "base_uri": "https://localhost:8080/"
        },
        "id": "ryHpF0QjsYas",
        "outputId": "8b709dd0-205a-43f0-8936-caec4057d2e2"
      },
      "source": [
        "df.columns.to_list()"
      ],
      "execution_count": 11,
      "outputs": [
        {
          "output_type": "execute_result",
          "data": {
            "text/plain": [
              "['Order ID',\n",
              " 'Product',\n",
              " 'Quantity Ordered',\n",
              " 'Price Each',\n",
              " 'Order Date',\n",
              " 'Purchase Address']"
            ]
          },
          "metadata": {
            "tags": []
          },
          "execution_count": 11
        }
      ]
    },
    {
      "cell_type": "code",
      "metadata": {
        "id": "Yxziywgism3y"
      },
      "source": [
        "# converting column names to lowercase & snakecase for ease of use\n",
        "df.columns = [col.lower().replace(' ', '_') for col in df.columns]"
      ],
      "execution_count": 12,
      "outputs": []
    },
    {
      "cell_type": "code",
      "metadata": {
        "colab": {
          "base_uri": "https://localhost:8080/"
        },
        "id": "zJErqWsutEVd",
        "outputId": "cda12dac-a835-4ca2-ae31-12cfd776a6a3"
      },
      "source": [
        "df.columns.to_list()"
      ],
      "execution_count": 13,
      "outputs": [
        {
          "output_type": "execute_result",
          "data": {
            "text/plain": [
              "['order_id',\n",
              " 'product',\n",
              " 'quantity_ordered',\n",
              " 'price_each',\n",
              " 'order_date',\n",
              " 'purchase_address']"
            ]
          },
          "metadata": {
            "tags": []
          },
          "execution_count": 13
        }
      ]
    },
    {
      "cell_type": "code",
      "metadata": {
        "colab": {
          "base_uri": "https://localhost:8080/"
        },
        "id": "KS9Y_zeRtINB",
        "outputId": "24498186-29fb-4cbb-b803-77dbb3e9242c"
      },
      "source": [
        "df.info()"
      ],
      "execution_count": 14,
      "outputs": [
        {
          "output_type": "stream",
          "text": [
            "<class 'pandas.core.frame.DataFrame'>\n",
            "Int64Index: 186850 entries, 0 to 9722\n",
            "Data columns (total 6 columns):\n",
            " #   Column            Non-Null Count   Dtype \n",
            "---  ------            --------------   ----- \n",
            " 0   order_id          186305 non-null  object\n",
            " 1   product           186305 non-null  object\n",
            " 2   quantity_ordered  186305 non-null  object\n",
            " 3   price_each        186305 non-null  object\n",
            " 4   order_date        186305 non-null  object\n",
            " 5   purchase_address  186305 non-null  object\n",
            "dtypes: object(6)\n",
            "memory usage: 10.0+ MB\n"
          ],
          "name": "stdout"
        }
      ]
    },
    {
      "cell_type": "markdown",
      "metadata": {
        "id": "S8p5mxdhtg93"
      },
      "source": [
        "\n",
        "##### Todos:\n",
        "  - convert quantity_ordered dtype from object to int64\n",
        "  - convert price_each dtype from object to datetime"
      ]
    },
    {
      "cell_type": "code",
      "metadata": {
        "colab": {
          "base_uri": "https://localhost:8080/"
        },
        "id": "46O3MWE4tMJJ",
        "outputId": "b336eee3-8253-4ff7-cba7-b6c3eca9071b"
      },
      "source": [
        "# converting to int dtype\n",
        "# check for the unique values in quantity_ordered \n",
        "df.quantity_ordered.unique()\n"
      ],
      "execution_count": 16,
      "outputs": [
        {
          "output_type": "execute_result",
          "data": {
            "text/plain": [
              "array(['1', '2', '5', '3', '4', '6', 'Quantity Ordered', nan, '7', '8',\n",
              "       '9'], dtype=object)"
            ]
          },
          "metadata": {
            "tags": []
          },
          "execution_count": 16
        }
      ]
    },
    {
      "cell_type": "code",
      "metadata": {
        "colab": {
          "base_uri": "https://localhost:8080/",
          "height": 419
        },
        "id": "Fsm1hVLdvSTF",
        "outputId": "caa117c2-5839-4849-8127-571f2b5ed7b1"
      },
      "source": [
        "# quering the 'Quantity Ordered' values of quantity_ordered column\n",
        "df.query(\"quantity_ordered == 'Quantity Ordered'\")"
      ],
      "execution_count": 17,
      "outputs": [
        {
          "output_type": "execute_result",
          "data": {
            "text/html": [
              "<div>\n",
              "<style scoped>\n",
              "    .dataframe tbody tr th:only-of-type {\n",
              "        vertical-align: middle;\n",
              "    }\n",
              "\n",
              "    .dataframe tbody tr th {\n",
              "        vertical-align: top;\n",
              "    }\n",
              "\n",
              "    .dataframe thead th {\n",
              "        text-align: right;\n",
              "    }\n",
              "</style>\n",
              "<table border=\"1\" class=\"dataframe\">\n",
              "  <thead>\n",
              "    <tr style=\"text-align: right;\">\n",
              "      <th></th>\n",
              "      <th>order_id</th>\n",
              "      <th>product</th>\n",
              "      <th>quantity_ordered</th>\n",
              "      <th>price_each</th>\n",
              "      <th>order_date</th>\n",
              "      <th>purchase_address</th>\n",
              "    </tr>\n",
              "  </thead>\n",
              "  <tbody>\n",
              "    <tr>\n",
              "      <th>433</th>\n",
              "      <td>Order ID</td>\n",
              "      <td>Product</td>\n",
              "      <td>Quantity Ordered</td>\n",
              "      <td>Price Each</td>\n",
              "      <td>Order Date</td>\n",
              "      <td>Purchase Address</td>\n",
              "    </tr>\n",
              "    <tr>\n",
              "      <th>864</th>\n",
              "      <td>Order ID</td>\n",
              "      <td>Product</td>\n",
              "      <td>Quantity Ordered</td>\n",
              "      <td>Price Each</td>\n",
              "      <td>Order Date</td>\n",
              "      <td>Purchase Address</td>\n",
              "    </tr>\n",
              "    <tr>\n",
              "      <th>930</th>\n",
              "      <td>Order ID</td>\n",
              "      <td>Product</td>\n",
              "      <td>Quantity Ordered</td>\n",
              "      <td>Price Each</td>\n",
              "      <td>Order Date</td>\n",
              "      <td>Purchase Address</td>\n",
              "    </tr>\n",
              "    <tr>\n",
              "      <th>1979</th>\n",
              "      <td>Order ID</td>\n",
              "      <td>Product</td>\n",
              "      <td>Quantity Ordered</td>\n",
              "      <td>Price Each</td>\n",
              "      <td>Order Date</td>\n",
              "      <td>Purchase Address</td>\n",
              "    </tr>\n",
              "    <tr>\n",
              "      <th>2032</th>\n",
              "      <td>Order ID</td>\n",
              "      <td>Product</td>\n",
              "      <td>Quantity Ordered</td>\n",
              "      <td>Price Each</td>\n",
              "      <td>Order Date</td>\n",
              "      <td>Purchase Address</td>\n",
              "    </tr>\n",
              "    <tr>\n",
              "      <th>...</th>\n",
              "      <td>...</td>\n",
              "      <td>...</td>\n",
              "      <td>...</td>\n",
              "      <td>...</td>\n",
              "      <td>...</td>\n",
              "      <td>...</td>\n",
              "    </tr>\n",
              "    <tr>\n",
              "      <th>6506</th>\n",
              "      <td>Order ID</td>\n",
              "      <td>Product</td>\n",
              "      <td>Quantity Ordered</td>\n",
              "      <td>Price Each</td>\n",
              "      <td>Order Date</td>\n",
              "      <td>Purchase Address</td>\n",
              "    </tr>\n",
              "    <tr>\n",
              "      <th>7544</th>\n",
              "      <td>Order ID</td>\n",
              "      <td>Product</td>\n",
              "      <td>Quantity Ordered</td>\n",
              "      <td>Price Each</td>\n",
              "      <td>Order Date</td>\n",
              "      <td>Purchase Address</td>\n",
              "    </tr>\n",
              "    <tr>\n",
              "      <th>7674</th>\n",
              "      <td>Order ID</td>\n",
              "      <td>Product</td>\n",
              "      <td>Quantity Ordered</td>\n",
              "      <td>Price Each</td>\n",
              "      <td>Order Date</td>\n",
              "      <td>Purchase Address</td>\n",
              "    </tr>\n",
              "    <tr>\n",
              "      <th>8271</th>\n",
              "      <td>Order ID</td>\n",
              "      <td>Product</td>\n",
              "      <td>Quantity Ordered</td>\n",
              "      <td>Price Each</td>\n",
              "      <td>Order Date</td>\n",
              "      <td>Purchase Address</td>\n",
              "    </tr>\n",
              "    <tr>\n",
              "      <th>9311</th>\n",
              "      <td>Order ID</td>\n",
              "      <td>Product</td>\n",
              "      <td>Quantity Ordered</td>\n",
              "      <td>Price Each</td>\n",
              "      <td>Order Date</td>\n",
              "      <td>Purchase Address</td>\n",
              "    </tr>\n",
              "  </tbody>\n",
              "</table>\n",
              "<p>355 rows × 6 columns</p>\n",
              "</div>"
            ],
            "text/plain": [
              "      order_id  product  ...  order_date  purchase_address\n",
              "433   Order ID  Product  ...  Order Date  Purchase Address\n",
              "864   Order ID  Product  ...  Order Date  Purchase Address\n",
              "930   Order ID  Product  ...  Order Date  Purchase Address\n",
              "1979  Order ID  Product  ...  Order Date  Purchase Address\n",
              "2032  Order ID  Product  ...  Order Date  Purchase Address\n",
              "...        ...      ...  ...         ...               ...\n",
              "6506  Order ID  Product  ...  Order Date  Purchase Address\n",
              "7544  Order ID  Product  ...  Order Date  Purchase Address\n",
              "7674  Order ID  Product  ...  Order Date  Purchase Address\n",
              "8271  Order ID  Product  ...  Order Date  Purchase Address\n",
              "9311  Order ID  Product  ...  Order Date  Purchase Address\n",
              "\n",
              "[355 rows x 6 columns]"
            ]
          },
          "metadata": {
            "tags": []
          },
          "execution_count": 17
        }
      ]
    },
    {
      "cell_type": "markdown",
      "metadata": {
        "id": "skUEoYdR0uS0"
      },
      "source": [
        "*1065 rows of dat contain invalid entries for all columns. these rows will be dropped."
      ]
    },
    {
      "cell_type": "code",
      "metadata": {
        "id": "-WUgtzVwwB3B"
      },
      "source": [
        "to_drop = df.query(\"quantity_ordered == 'Quantity Ordered'\").index"
      ],
      "execution_count": 18,
      "outputs": []
    },
    {
      "cell_type": "code",
      "metadata": {
        "id": "i0goekeUzKkc"
      },
      "source": [
        "df.drop(to_drop, axis=0, inplace=True)"
      ],
      "execution_count": 19,
      "outputs": []
    },
    {
      "cell_type": "code",
      "metadata": {
        "colab": {
          "base_uri": "https://localhost:8080/"
        },
        "id": "XBuBfslp1aI2",
        "outputId": "4444ecdb-0c8c-4c0c-f66e-f98996badf64"
      },
      "source": [
        "df.quantity_ordered.unique()"
      ],
      "execution_count": 20,
      "outputs": [
        {
          "output_type": "execute_result",
          "data": {
            "text/plain": [
              "array(['1', '2', '5', '3', '4', '6', nan, '7', '8', '9'], dtype=object)"
            ]
          },
          "metadata": {
            "tags": []
          },
          "execution_count": 20
        }
      ]
    },
    {
      "cell_type": "code",
      "metadata": {
        "colab": {
          "base_uri": "https://localhost:8080/",
          "height": 419
        },
        "id": "a_aweukU12lU",
        "outputId": "bb3d7cba-b9e0-4734-ec12-4b30a3529c02"
      },
      "source": [
        "df.loc[df.quantity_ordered.isna()]"
      ],
      "execution_count": 21,
      "outputs": [
        {
          "output_type": "execute_result",
          "data": {
            "text/html": [
              "<div>\n",
              "<style scoped>\n",
              "    .dataframe tbody tr th:only-of-type {\n",
              "        vertical-align: middle;\n",
              "    }\n",
              "\n",
              "    .dataframe tbody tr th {\n",
              "        vertical-align: top;\n",
              "    }\n",
              "\n",
              "    .dataframe thead th {\n",
              "        text-align: right;\n",
              "    }\n",
              "</style>\n",
              "<table border=\"1\" class=\"dataframe\">\n",
              "  <thead>\n",
              "    <tr style=\"text-align: right;\">\n",
              "      <th></th>\n",
              "      <th>order_id</th>\n",
              "      <th>product</th>\n",
              "      <th>quantity_ordered</th>\n",
              "      <th>price_each</th>\n",
              "      <th>order_date</th>\n",
              "      <th>purchase_address</th>\n",
              "    </tr>\n",
              "  </thead>\n",
              "  <tbody>\n",
              "    <tr>\n",
              "      <th>1047</th>\n",
              "      <td>NaN</td>\n",
              "      <td>NaN</td>\n",
              "      <td>NaN</td>\n",
              "      <td>NaN</td>\n",
              "      <td>NaN</td>\n",
              "      <td>NaN</td>\n",
              "    </tr>\n",
              "    <tr>\n",
              "      <th>1542</th>\n",
              "      <td>NaN</td>\n",
              "      <td>NaN</td>\n",
              "      <td>NaN</td>\n",
              "      <td>NaN</td>\n",
              "      <td>NaN</td>\n",
              "      <td>NaN</td>\n",
              "    </tr>\n",
              "    <tr>\n",
              "      <th>1653</th>\n",
              "      <td>NaN</td>\n",
              "      <td>NaN</td>\n",
              "      <td>NaN</td>\n",
              "      <td>NaN</td>\n",
              "      <td>NaN</td>\n",
              "      <td>NaN</td>\n",
              "    </tr>\n",
              "    <tr>\n",
              "      <th>2014</th>\n",
              "      <td>NaN</td>\n",
              "      <td>NaN</td>\n",
              "      <td>NaN</td>\n",
              "      <td>NaN</td>\n",
              "      <td>NaN</td>\n",
              "      <td>NaN</td>\n",
              "    </tr>\n",
              "    <tr>\n",
              "      <th>2043</th>\n",
              "      <td>NaN</td>\n",
              "      <td>NaN</td>\n",
              "      <td>NaN</td>\n",
              "      <td>NaN</td>\n",
              "      <td>NaN</td>\n",
              "      <td>NaN</td>\n",
              "    </tr>\n",
              "    <tr>\n",
              "      <th>...</th>\n",
              "      <td>...</td>\n",
              "      <td>...</td>\n",
              "      <td>...</td>\n",
              "      <td>...</td>\n",
              "      <td>...</td>\n",
              "      <td>...</td>\n",
              "    </tr>\n",
              "    <tr>\n",
              "      <th>8596</th>\n",
              "      <td>NaN</td>\n",
              "      <td>NaN</td>\n",
              "      <td>NaN</td>\n",
              "      <td>NaN</td>\n",
              "      <td>NaN</td>\n",
              "      <td>NaN</td>\n",
              "    </tr>\n",
              "    <tr>\n",
              "      <th>8623</th>\n",
              "      <td>NaN</td>\n",
              "      <td>NaN</td>\n",
              "      <td>NaN</td>\n",
              "      <td>NaN</td>\n",
              "      <td>NaN</td>\n",
              "      <td>NaN</td>\n",
              "    </tr>\n",
              "    <tr>\n",
              "      <th>9144</th>\n",
              "      <td>NaN</td>\n",
              "      <td>NaN</td>\n",
              "      <td>NaN</td>\n",
              "      <td>NaN</td>\n",
              "      <td>NaN</td>\n",
              "      <td>NaN</td>\n",
              "    </tr>\n",
              "    <tr>\n",
              "      <th>9631</th>\n",
              "      <td>NaN</td>\n",
              "      <td>NaN</td>\n",
              "      <td>NaN</td>\n",
              "      <td>NaN</td>\n",
              "      <td>NaN</td>\n",
              "      <td>NaN</td>\n",
              "    </tr>\n",
              "    <tr>\n",
              "      <th>9664</th>\n",
              "      <td>NaN</td>\n",
              "      <td>NaN</td>\n",
              "      <td>NaN</td>\n",
              "      <td>NaN</td>\n",
              "      <td>NaN</td>\n",
              "      <td>NaN</td>\n",
              "    </tr>\n",
              "  </tbody>\n",
              "</table>\n",
              "<p>536 rows × 6 columns</p>\n",
              "</div>"
            ],
            "text/plain": [
              "     order_id product quantity_ordered price_each order_date purchase_address\n",
              "1047      NaN     NaN              NaN        NaN        NaN              NaN\n",
              "1542      NaN     NaN              NaN        NaN        NaN              NaN\n",
              "1653      NaN     NaN              NaN        NaN        NaN              NaN\n",
              "2014      NaN     NaN              NaN        NaN        NaN              NaN\n",
              "2043      NaN     NaN              NaN        NaN        NaN              NaN\n",
              "...       ...     ...              ...        ...        ...              ...\n",
              "8596      NaN     NaN              NaN        NaN        NaN              NaN\n",
              "8623      NaN     NaN              NaN        NaN        NaN              NaN\n",
              "9144      NaN     NaN              NaN        NaN        NaN              NaN\n",
              "9631      NaN     NaN              NaN        NaN        NaN              NaN\n",
              "9664      NaN     NaN              NaN        NaN        NaN              NaN\n",
              "\n",
              "[536 rows x 6 columns]"
            ]
          },
          "metadata": {
            "tags": []
          },
          "execution_count": 21
        }
      ]
    },
    {
      "cell_type": "markdown",
      "metadata": {
        "id": "CQD8J4Wb3Ekc"
      },
      "source": [
        "- the data contains missing values which should be dropped"
      ]
    },
    {
      "cell_type": "code",
      "metadata": {
        "id": "BsImOGiK2a-3"
      },
      "source": [
        "df.dropna(axis=0, how='any', inplace=True)"
      ],
      "execution_count": 22,
      "outputs": []
    },
    {
      "cell_type": "code",
      "metadata": {
        "colab": {
          "base_uri": "https://localhost:8080/"
        },
        "id": "NJNvrIZz27o_",
        "outputId": "f66df052-36d8-4a40-d7b2-cdb4fbfe08ec"
      },
      "source": [
        "df.isna().sum()"
      ],
      "execution_count": 23,
      "outputs": [
        {
          "output_type": "execute_result",
          "data": {
            "text/plain": [
              "order_id            0\n",
              "product             0\n",
              "quantity_ordered    0\n",
              "price_each          0\n",
              "order_date          0\n",
              "purchase_address    0\n",
              "dtype: int64"
            ]
          },
          "metadata": {
            "tags": []
          },
          "execution_count": 23
        }
      ]
    },
    {
      "cell_type": "markdown",
      "metadata": {
        "id": "xhu8Gmmn3XVg"
      },
      "source": [
        "- data now clean. dtype conversion can now be made successfully"
      ]
    },
    {
      "cell_type": "code",
      "metadata": {
        "id": "LTjZtGYF3RHY"
      },
      "source": [
        "df.quantity_ordered = df.quantity_ordered.astype('int64')"
      ],
      "execution_count": 24,
      "outputs": []
    },
    {
      "cell_type": "code",
      "metadata": {
        "id": "syP43Ab239tM"
      },
      "source": [
        "df.price_each = df.price_each.astype('float64')"
      ],
      "execution_count": 25,
      "outputs": []
    },
    {
      "cell_type": "code",
      "metadata": {
        "id": "U-rT_dNm4y7e"
      },
      "source": [
        "\n",
        "df.order_date = df.order_date.astype('datetime64')"
      ],
      "execution_count": 26,
      "outputs": []
    },
    {
      "cell_type": "code",
      "metadata": {
        "colab": {
          "base_uri": "https://localhost:8080/"
        },
        "id": "yjzErsik5hTd",
        "outputId": "7d3f9af0-24fc-4320-8e2d-4f57fc7d31a5"
      },
      "source": [
        "df.order_date.dtype"
      ],
      "execution_count": 27,
      "outputs": [
        {
          "output_type": "execute_result",
          "data": {
            "text/plain": [
              "dtype('<M8[ns]')"
            ]
          },
          "metadata": {
            "tags": []
          },
          "execution_count": 27
        }
      ]
    },
    {
      "cell_type": "code",
      "metadata": {
        "colab": {
          "base_uri": "https://localhost:8080/",
          "height": 111
        },
        "id": "BMopG7ao7WxH",
        "outputId": "330f5772-3d1e-4eab-d0b6-5fb8b0f6a51d"
      },
      "source": [
        "df.head(2)"
      ],
      "execution_count": 29,
      "outputs": [
        {
          "output_type": "execute_result",
          "data": {
            "text/html": [
              "<div>\n",
              "<style scoped>\n",
              "    .dataframe tbody tr th:only-of-type {\n",
              "        vertical-align: middle;\n",
              "    }\n",
              "\n",
              "    .dataframe tbody tr th {\n",
              "        vertical-align: top;\n",
              "    }\n",
              "\n",
              "    .dataframe thead th {\n",
              "        text-align: right;\n",
              "    }\n",
              "</style>\n",
              "<table border=\"1\" class=\"dataframe\">\n",
              "  <thead>\n",
              "    <tr style=\"text-align: right;\">\n",
              "      <th></th>\n",
              "      <th>order_id</th>\n",
              "      <th>product</th>\n",
              "      <th>quantity_ordered</th>\n",
              "      <th>price_each</th>\n",
              "      <th>order_date</th>\n",
              "      <th>purchase_address</th>\n",
              "    </tr>\n",
              "  </thead>\n",
              "  <tbody>\n",
              "    <tr>\n",
              "      <th>0</th>\n",
              "      <td>162009</td>\n",
              "      <td>iPhone</td>\n",
              "      <td>1</td>\n",
              "      <td>700.00</td>\n",
              "      <td>2019-03-28 20:59:00</td>\n",
              "      <td>942 Church St, Austin, TX 73301</td>\n",
              "    </tr>\n",
              "    <tr>\n",
              "      <th>1</th>\n",
              "      <td>162009</td>\n",
              "      <td>Lightning Charging Cable</td>\n",
              "      <td>1</td>\n",
              "      <td>14.95</td>\n",
              "      <td>2019-03-28 20:59:00</td>\n",
              "      <td>942 Church St, Austin, TX 73301</td>\n",
              "    </tr>\n",
              "  </tbody>\n",
              "</table>\n",
              "</div>"
            ],
            "text/plain": [
              "  order_id  ...                 purchase_address\n",
              "0   162009  ...  942 Church St, Austin, TX 73301\n",
              "1   162009  ...  942 Church St, Austin, TX 73301\n",
              "\n",
              "[2 rows x 6 columns]"
            ]
          },
          "metadata": {
            "tags": []
          },
          "execution_count": 29
        }
      ]
    },
    {
      "cell_type": "code",
      "metadata": {
        "id": "CRS7Zxpz7AGA"
      },
      "source": [
        "# calculating the total_price of each product\n",
        "ser = df.quantity_ordered.mul(df.price_each)\n",
        "\n",
        "# placing the total_price column next to price_each column\n",
        "df.insert(4, 'total_price', ser)\n"
      ],
      "execution_count": 104,
      "outputs": []
    },
    {
      "cell_type": "code",
      "metadata": {
        "colab": {
          "base_uri": "https://localhost:8080/",
          "height": 204
        },
        "id": "AZ269amq9xcu",
        "outputId": "565690ec-fbb6-4331-9321-ce240a59c529"
      },
      "source": [
        "df.head()"
      ],
      "execution_count": 105,
      "outputs": [
        {
          "output_type": "execute_result",
          "data": {
            "text/html": [
              "<div>\n",
              "<style scoped>\n",
              "    .dataframe tbody tr th:only-of-type {\n",
              "        vertical-align: middle;\n",
              "    }\n",
              "\n",
              "    .dataframe tbody tr th {\n",
              "        vertical-align: top;\n",
              "    }\n",
              "\n",
              "    .dataframe thead th {\n",
              "        text-align: right;\n",
              "    }\n",
              "</style>\n",
              "<table border=\"1\" class=\"dataframe\">\n",
              "  <thead>\n",
              "    <tr style=\"text-align: right;\">\n",
              "      <th></th>\n",
              "      <th>order_id</th>\n",
              "      <th>product</th>\n",
              "      <th>quantity_ordered</th>\n",
              "      <th>price_each</th>\n",
              "      <th>total_price</th>\n",
              "      <th>order_date</th>\n",
              "      <th>purchase_address</th>\n",
              "    </tr>\n",
              "  </thead>\n",
              "  <tbody>\n",
              "    <tr>\n",
              "      <th>0</th>\n",
              "      <td>162009</td>\n",
              "      <td>iPhone</td>\n",
              "      <td>1</td>\n",
              "      <td>700.00</td>\n",
              "      <td>700.00</td>\n",
              "      <td>2019-03-28 20:59:00</td>\n",
              "      <td>942 Church St, Austin, TX 73301</td>\n",
              "    </tr>\n",
              "    <tr>\n",
              "      <th>1</th>\n",
              "      <td>162009</td>\n",
              "      <td>Lightning Charging Cable</td>\n",
              "      <td>1</td>\n",
              "      <td>14.95</td>\n",
              "      <td>14.95</td>\n",
              "      <td>2019-03-28 20:59:00</td>\n",
              "      <td>942 Church St, Austin, TX 73301</td>\n",
              "    </tr>\n",
              "    <tr>\n",
              "      <th>2</th>\n",
              "      <td>162009</td>\n",
              "      <td>Wired Headphones</td>\n",
              "      <td>2</td>\n",
              "      <td>11.99</td>\n",
              "      <td>23.98</td>\n",
              "      <td>2019-03-28 20:59:00</td>\n",
              "      <td>942 Church St, Austin, TX 73301</td>\n",
              "    </tr>\n",
              "    <tr>\n",
              "      <th>3</th>\n",
              "      <td>162010</td>\n",
              "      <td>Bose SoundSport Headphones</td>\n",
              "      <td>1</td>\n",
              "      <td>99.99</td>\n",
              "      <td>99.99</td>\n",
              "      <td>2019-03-17 05:39:00</td>\n",
              "      <td>261 10th St, San Francisco, CA 94016</td>\n",
              "    </tr>\n",
              "    <tr>\n",
              "      <th>4</th>\n",
              "      <td>162011</td>\n",
              "      <td>34in Ultrawide Monitor</td>\n",
              "      <td>1</td>\n",
              "      <td>379.99</td>\n",
              "      <td>379.99</td>\n",
              "      <td>2019-03-10 00:01:00</td>\n",
              "      <td>764 13th St, San Francisco, CA 94016</td>\n",
              "    </tr>\n",
              "  </tbody>\n",
              "</table>\n",
              "</div>"
            ],
            "text/plain": [
              "  order_id  ...                      purchase_address\n",
              "0   162009  ...       942 Church St, Austin, TX 73301\n",
              "1   162009  ...       942 Church St, Austin, TX 73301\n",
              "2   162009  ...       942 Church St, Austin, TX 73301\n",
              "3   162010  ...  261 10th St, San Francisco, CA 94016\n",
              "4   162011  ...  764 13th St, San Francisco, CA 94016\n",
              "\n",
              "[5 rows x 7 columns]"
            ]
          },
          "metadata": {
            "tags": []
          },
          "execution_count": 105
        }
      ]
    },
    {
      "cell_type": "code",
      "metadata": {
        "colab": {
          "base_uri": "https://localhost:8080/",
          "height": 297
        },
        "id": "LDdN8L_1PJLo",
        "outputId": "b07018a0-6ab0-4c72-8a37-74e7f7de8bf3"
      },
      "source": [
        "df.describe()"
      ],
      "execution_count": 106,
      "outputs": [
        {
          "output_type": "execute_result",
          "data": {
            "text/html": [
              "<div>\n",
              "<style scoped>\n",
              "    .dataframe tbody tr th:only-of-type {\n",
              "        vertical-align: middle;\n",
              "    }\n",
              "\n",
              "    .dataframe tbody tr th {\n",
              "        vertical-align: top;\n",
              "    }\n",
              "\n",
              "    .dataframe thead th {\n",
              "        text-align: right;\n",
              "    }\n",
              "</style>\n",
              "<table border=\"1\" class=\"dataframe\">\n",
              "  <thead>\n",
              "    <tr style=\"text-align: right;\">\n",
              "      <th></th>\n",
              "      <th>quantity_ordered</th>\n",
              "      <th>price_each</th>\n",
              "      <th>total_price</th>\n",
              "    </tr>\n",
              "  </thead>\n",
              "  <tbody>\n",
              "    <tr>\n",
              "      <th>count</th>\n",
              "      <td>182735.000000</td>\n",
              "      <td>182735.000000</td>\n",
              "      <td>182735.000000</td>\n",
              "    </tr>\n",
              "    <tr>\n",
              "      <th>mean</th>\n",
              "      <td>1.124333</td>\n",
              "      <td>184.315392</td>\n",
              "      <td>185.403890</td>\n",
              "    </tr>\n",
              "    <tr>\n",
              "      <th>std</th>\n",
              "      <td>0.442937</td>\n",
              "      <td>332.684344</td>\n",
              "      <td>332.877445</td>\n",
              "    </tr>\n",
              "    <tr>\n",
              "      <th>min</th>\n",
              "      <td>1.000000</td>\n",
              "      <td>2.990000</td>\n",
              "      <td>2.990000</td>\n",
              "    </tr>\n",
              "    <tr>\n",
              "      <th>25%</th>\n",
              "      <td>1.000000</td>\n",
              "      <td>11.950000</td>\n",
              "      <td>11.950000</td>\n",
              "    </tr>\n",
              "    <tr>\n",
              "      <th>50%</th>\n",
              "      <td>1.000000</td>\n",
              "      <td>14.950000</td>\n",
              "      <td>14.950000</td>\n",
              "    </tr>\n",
              "    <tr>\n",
              "      <th>75%</th>\n",
              "      <td>1.000000</td>\n",
              "      <td>150.000000</td>\n",
              "      <td>150.000000</td>\n",
              "    </tr>\n",
              "    <tr>\n",
              "      <th>max</th>\n",
              "      <td>9.000000</td>\n",
              "      <td>1700.000000</td>\n",
              "      <td>3400.000000</td>\n",
              "    </tr>\n",
              "  </tbody>\n",
              "</table>\n",
              "</div>"
            ],
            "text/plain": [
              "       quantity_ordered     price_each    total_price\n",
              "count     182735.000000  182735.000000  182735.000000\n",
              "mean           1.124333     184.315392     185.403890\n",
              "std            0.442937     332.684344     332.877445\n",
              "min            1.000000       2.990000       2.990000\n",
              "25%            1.000000      11.950000      11.950000\n",
              "50%            1.000000      14.950000      14.950000\n",
              "75%            1.000000     150.000000     150.000000\n",
              "max            9.000000    1700.000000    3400.000000"
            ]
          },
          "metadata": {
            "tags": []
          },
          "execution_count": 106
        }
      ]
    },
    {
      "cell_type": "markdown",
      "metadata": {
        "id": "DNqZiQWSO7cy"
      },
      "source": [
        "## Univariate Analysis:"
      ]
    },
    {
      "cell_type": "code",
      "metadata": {
        "id": "S_lQLDC2PAf-"
      },
      "source": [
        "df.price_each = round(df.price_each,2)"
      ],
      "execution_count": 32,
      "outputs": []
    },
    {
      "cell_type": "code",
      "metadata": {
        "colab": {
          "base_uri": "https://localhost:8080/",
          "height": 381
        },
        "id": "XNzTCL2-PkkO",
        "outputId": "01809d14-3581-4e26-c2f0-7fb0978305bd"
      },
      "source": [
        "\n",
        "sns.displot(data=df, x='price_each', color='green', bins=20, height=5, aspect=2)\n",
        "plt.title('Histogram showing price distribution');"
      ],
      "execution_count": 61,
      "outputs": [
        {
          "output_type": "display_data",
          "data": {
            "image/png": "[encoded data removed]",
            "text/plain": [
              "<Figure size 720x360 with 1 Axes>"
            ]
          },
          "metadata": {
            "tags": []
          }
        }
      ]
    },
    {
      "cell_type": "code",
      "metadata": {
        "colab": {
          "base_uri": "https://localhost:8080/",
          "height": 412
        },
        "id": "Wo9HMCwyWDIe",
        "outputId": "6f42c8e8-1653-48eb-a1bf-222d570f41b9"
      },
      "source": [
        "sns.set(rc={\"figure.figsize\":(12, 6)})\n",
        "sns.boxplot(data=df, x='price_each')\n",
        "plt.title('Boxplot of price distribution', size=16);"
      ],
      "execution_count": 57,
      "outputs": [
        {
          "output_type": "display_data",
          "data": {
            "image/png": "[encoded data removed]",
            "text/plain": [
              "<Figure size 864x432 with 1 Axes>"
            ]
          },
          "metadata": {
            "tags": []
          }
        }
      ]
    },
    {
      "cell_type": "code",
      "metadata": {
        "colab": {
          "base_uri": "https://localhost:8080/",
          "height": 419
        },
        "id": "Vc41zm_PS6iG",
        "outputId": "5878880a-ab15-4baf-87ba-69b1e7e9ec0e"
      },
      "source": [
        "df.loc[df.price_each > 1500]"
      ],
      "execution_count": 40,
      "outputs": [
        {
          "output_type": "execute_result",
          "data": {
            "text/html": [
              "<div>\n",
              "<style scoped>\n",
              "    .dataframe tbody tr th:only-of-type {\n",
              "        vertical-align: middle;\n",
              "    }\n",
              "\n",
              "    .dataframe tbody tr th {\n",
              "        vertical-align: top;\n",
              "    }\n",
              "\n",
              "    .dataframe thead th {\n",
              "        text-align: right;\n",
              "    }\n",
              "</style>\n",
              "<table border=\"1\" class=\"dataframe\">\n",
              "  <thead>\n",
              "    <tr style=\"text-align: right;\">\n",
              "      <th></th>\n",
              "      <th>order_id</th>\n",
              "      <th>product</th>\n",
              "      <th>quantity_ordered</th>\n",
              "      <th>price_each</th>\n",
              "      <th>order_date</th>\n",
              "      <th>purchase_address</th>\n",
              "    </tr>\n",
              "  </thead>\n",
              "  <tbody>\n",
              "    <tr>\n",
              "      <th>28</th>\n",
              "      <td>162035</td>\n",
              "      <td>Macbook Pro Laptop</td>\n",
              "      <td>1</td>\n",
              "      <td>1700.0</td>\n",
              "      <td>2019-03-08 13:07:00</td>\n",
              "      <td>44 4th St, Los Angeles, CA 90001</td>\n",
              "    </tr>\n",
              "    <tr>\n",
              "      <th>58</th>\n",
              "      <td>162064</td>\n",
              "      <td>Macbook Pro Laptop</td>\n",
              "      <td>1</td>\n",
              "      <td>1700.0</td>\n",
              "      <td>2019-03-05 09:00:00</td>\n",
              "      <td>414 Willow St, San Francisco, CA 94016</td>\n",
              "    </tr>\n",
              "    <tr>\n",
              "      <th>100</th>\n",
              "      <td>162101</td>\n",
              "      <td>Macbook Pro Laptop</td>\n",
              "      <td>1</td>\n",
              "      <td>1700.0</td>\n",
              "      <td>2019-03-30 10:47:00</td>\n",
              "      <td>253 11th St, Seattle, WA 98101</td>\n",
              "    </tr>\n",
              "    <tr>\n",
              "      <th>119</th>\n",
              "      <td>162120</td>\n",
              "      <td>Macbook Pro Laptop</td>\n",
              "      <td>1</td>\n",
              "      <td>1700.0</td>\n",
              "      <td>2019-03-15 18:43:00</td>\n",
              "      <td>969 Washington St, Dallas, TX 75001</td>\n",
              "    </tr>\n",
              "    <tr>\n",
              "      <th>123</th>\n",
              "      <td>162124</td>\n",
              "      <td>Macbook Pro Laptop</td>\n",
              "      <td>1</td>\n",
              "      <td>1700.0</td>\n",
              "      <td>2019-03-27 09:52:00</td>\n",
              "      <td>8 West St, San Francisco, CA 94016</td>\n",
              "    </tr>\n",
              "    <tr>\n",
              "      <th>...</th>\n",
              "      <td>...</td>\n",
              "      <td>...</td>\n",
              "      <td>...</td>\n",
              "      <td>...</td>\n",
              "      <td>...</td>\n",
              "      <td>...</td>\n",
              "    </tr>\n",
              "    <tr>\n",
              "      <th>9529</th>\n",
              "      <td>150314</td>\n",
              "      <td>Macbook Pro Laptop</td>\n",
              "      <td>1</td>\n",
              "      <td>1700.0</td>\n",
              "      <td>2019-01-27 09:52:00</td>\n",
              "      <td>907 Meadow St, Austin, TX 73301</td>\n",
              "    </tr>\n",
              "    <tr>\n",
              "      <th>9542</th>\n",
              "      <td>150325</td>\n",
              "      <td>Macbook Pro Laptop</td>\n",
              "      <td>1</td>\n",
              "      <td>1700.0</td>\n",
              "      <td>2019-01-29 12:50:00</td>\n",
              "      <td>849 Church St, San Francisco, CA 94016</td>\n",
              "    </tr>\n",
              "    <tr>\n",
              "      <th>9577</th>\n",
              "      <td>150359</td>\n",
              "      <td>Macbook Pro Laptop</td>\n",
              "      <td>1</td>\n",
              "      <td>1700.0</td>\n",
              "      <td>2019-01-13 22:28:00</td>\n",
              "      <td>769 7th St, San Francisco, CA 94016</td>\n",
              "    </tr>\n",
              "    <tr>\n",
              "      <th>9648</th>\n",
              "      <td>150429</td>\n",
              "      <td>Macbook Pro Laptop</td>\n",
              "      <td>1</td>\n",
              "      <td>1700.0</td>\n",
              "      <td>2019-01-15 19:54:00</td>\n",
              "      <td>911 Wilson St, New York City, NY 10001</td>\n",
              "    </tr>\n",
              "    <tr>\n",
              "      <th>9701</th>\n",
              "      <td>150480</td>\n",
              "      <td>Macbook Pro Laptop</td>\n",
              "      <td>1</td>\n",
              "      <td>1700.0</td>\n",
              "      <td>2019-01-27 16:00:00</td>\n",
              "      <td>833 Cherry St, Los Angeles, CA 90001</td>\n",
              "    </tr>\n",
              "  </tbody>\n",
              "</table>\n",
              "<p>4641 rows × 6 columns</p>\n",
              "</div>"
            ],
            "text/plain": [
              "     order_id  ...                        purchase_address\n",
              "28     162035  ...        44 4th St, Los Angeles, CA 90001\n",
              "58     162064  ...  414 Willow St, San Francisco, CA 94016\n",
              "100    162101  ...          253 11th St, Seattle, WA 98101\n",
              "119    162120  ...     969 Washington St, Dallas, TX 75001\n",
              "123    162124  ...      8 West St, San Francisco, CA 94016\n",
              "...       ...  ...                                     ...\n",
              "9529   150314  ...         907 Meadow St, Austin, TX 73301\n",
              "9542   150325  ...  849 Church St, San Francisco, CA 94016\n",
              "9577   150359  ...     769 7th St, San Francisco, CA 94016\n",
              "9648   150429  ...  911 Wilson St, New York City, NY 10001\n",
              "9701   150480  ...    833 Cherry St, Los Angeles, CA 90001\n",
              "\n",
              "[4641 rows x 6 columns]"
            ]
          },
          "metadata": {
            "tags": []
          },
          "execution_count": 40
        }
      ]
    },
    {
      "cell_type": "markdown",
      "metadata": {
        "id": "bnxpBW9nW0ii"
      },
      "source": [
        "*The price distribution is right skewed with a mean of $184.31 and median of $14.95. The skewness is due to products such as laptops, whose selling prices far outweigh the prices of pther products, thus pulling the mean to the right. Most of the products cost less than $250.*"
      ]
    },
    {
      "cell_type": "code",
      "metadata": {
        "colab": {
          "base_uri": "https://localhost:8080/"
        },
        "id": "kninIy0J6Aez",
        "outputId": "00863d32-742c-4b2e-b25b-04c63b818ce3"
      },
      "source": [
        "df.quantity_ordered.value_counts()"
      ],
      "execution_count": 95,
      "outputs": [
        {
          "output_type": "execute_result",
          "data": {
            "text/plain": [
              "1    165650\n",
              "2     13082\n",
              "3      2870\n",
              "4       789\n",
              "5       232\n",
              "6        80\n",
              "7        24\n",
              "8         5\n",
              "9         3\n",
              "Name: quantity_ordered, dtype: int64"
            ]
          },
          "metadata": {
            "tags": []
          },
          "execution_count": 95
        }
      ]
    },
    {
      "cell_type": "markdown",
      "metadata": {
        "id": "xY8Xh8iC6FPd"
      },
      "source": [
        "*most orders were place for a single item"
      ]
    },
    {
      "cell_type": "code",
      "metadata": {
        "id": "WOoo56bP6DcP"
      },
      "source": [
        "# monthly trend of quantity ordered:\n",
        "import datetime"
      ],
      "execution_count": 107,
      "outputs": []
    },
    {
      "cell_type": "code",
      "metadata": {
        "id": "czVPH1eC-g7M"
      },
      "source": [
        "month_ordered = df.order_date.dt.month"
      ],
      "execution_count": 119,
      "outputs": []
    },
    {
      "cell_type": "code",
      "metadata": {
        "id": "MT681bmz-nt4"
      },
      "source": [
        "df.insert(6,'order_month', month_ordered)"
      ],
      "execution_count": 120,
      "outputs": []
    },
    {
      "cell_type": "code",
      "metadata": {
        "colab": {
          "base_uri": "https://localhost:8080/",
          "height": 111
        },
        "id": "X1T-1jA4-8RY",
        "outputId": "f07e21d6-c2b4-433b-9428-1985d156d12d"
      },
      "source": [
        "df.head(2)"
      ],
      "execution_count": 121,
      "outputs": [
        {
          "output_type": "execute_result",
          "data": {
            "text/html": [
              "<div>\n",
              "<style scoped>\n",
              "    .dataframe tbody tr th:only-of-type {\n",
              "        vertical-align: middle;\n",
              "    }\n",
              "\n",
              "    .dataframe tbody tr th {\n",
              "        vertical-align: top;\n",
              "    }\n",
              "\n",
              "    .dataframe thead th {\n",
              "        text-align: right;\n",
              "    }\n",
              "</style>\n",
              "<table border=\"1\" class=\"dataframe\">\n",
              "  <thead>\n",
              "    <tr style=\"text-align: right;\">\n",
              "      <th></th>\n",
              "      <th>order_id</th>\n",
              "      <th>product</th>\n",
              "      <th>quantity_ordered</th>\n",
              "      <th>price_each</th>\n",
              "      <th>total_price</th>\n",
              "      <th>order_date</th>\n",
              "      <th>order_month</th>\n",
              "      <th>purchase_address</th>\n",
              "    </tr>\n",
              "  </thead>\n",
              "  <tbody>\n",
              "    <tr>\n",
              "      <th>0</th>\n",
              "      <td>162009</td>\n",
              "      <td>iPhone</td>\n",
              "      <td>1</td>\n",
              "      <td>700.00</td>\n",
              "      <td>700.00</td>\n",
              "      <td>2019-03-28 20:59:00</td>\n",
              "      <td>3</td>\n",
              "      <td>942 Church St, Austin, TX 73301</td>\n",
              "    </tr>\n",
              "    <tr>\n",
              "      <th>1</th>\n",
              "      <td>162009</td>\n",
              "      <td>Lightning Charging Cable</td>\n",
              "      <td>1</td>\n",
              "      <td>14.95</td>\n",
              "      <td>14.95</td>\n",
              "      <td>2019-03-28 20:59:00</td>\n",
              "      <td>3</td>\n",
              "      <td>942 Church St, Austin, TX 73301</td>\n",
              "    </tr>\n",
              "  </tbody>\n",
              "</table>\n",
              "</div>"
            ],
            "text/plain": [
              "  order_id  ...                 purchase_address\n",
              "0   162009  ...  942 Church St, Austin, TX 73301\n",
              "1   162009  ...  942 Church St, Austin, TX 73301\n",
              "\n",
              "[2 rows x 8 columns]"
            ]
          },
          "metadata": {
            "tags": []
          },
          "execution_count": 121
        }
      ]
    },
    {
      "cell_type": "code",
      "metadata": {
        "id": "qpsKtbcZAXUU"
      },
      "source": [
        "df['order_month'] = df.order_month.map({1:'Jan', 2:'Feb', 3:'Mar', 4:'April', 5:'May', 6:'June', 7:'July', 8:'Aug', 9:'Sept', 10:'Oct', 11:'Nov', 12:'Dec'})"
      ],
      "execution_count": 128,
      "outputs": []
    },
    {
      "cell_type": "code",
      "metadata": {
        "colab": {
          "base_uri": "https://localhost:8080/",
          "height": 204
        },
        "id": "MOAn5d6FBKd4",
        "outputId": "21d38c6c-ad4e-4cfe-8101-158dc5650389"
      },
      "source": [
        "df.head()"
      ],
      "execution_count": 129,
      "outputs": [
        {
          "output_type": "execute_result",
          "data": {
            "text/html": [
              "<div>\n",
              "<style scoped>\n",
              "    .dataframe tbody tr th:only-of-type {\n",
              "        vertical-align: middle;\n",
              "    }\n",
              "\n",
              "    .dataframe tbody tr th {\n",
              "        vertical-align: top;\n",
              "    }\n",
              "\n",
              "    .dataframe thead th {\n",
              "        text-align: right;\n",
              "    }\n",
              "</style>\n",
              "<table border=\"1\" class=\"dataframe\">\n",
              "  <thead>\n",
              "    <tr style=\"text-align: right;\">\n",
              "      <th></th>\n",
              "      <th>order_id</th>\n",
              "      <th>product</th>\n",
              "      <th>quantity_ordered</th>\n",
              "      <th>price_each</th>\n",
              "      <th>total_price</th>\n",
              "      <th>order_date</th>\n",
              "      <th>order_month</th>\n",
              "      <th>purchase_address</th>\n",
              "    </tr>\n",
              "  </thead>\n",
              "  <tbody>\n",
              "    <tr>\n",
              "      <th>0</th>\n",
              "      <td>162009</td>\n",
              "      <td>iPhone</td>\n",
              "      <td>1</td>\n",
              "      <td>700.00</td>\n",
              "      <td>700.00</td>\n",
              "      <td>2019-03-28 20:59:00</td>\n",
              "      <td>Mar</td>\n",
              "      <td>942 Church St, Austin, TX 73301</td>\n",
              "    </tr>\n",
              "    <tr>\n",
              "      <th>1</th>\n",
              "      <td>162009</td>\n",
              "      <td>Lightning Charging Cable</td>\n",
              "      <td>1</td>\n",
              "      <td>14.95</td>\n",
              "      <td>14.95</td>\n",
              "      <td>2019-03-28 20:59:00</td>\n",
              "      <td>Mar</td>\n",
              "      <td>942 Church St, Austin, TX 73301</td>\n",
              "    </tr>\n",
              "    <tr>\n",
              "      <th>2</th>\n",
              "      <td>162009</td>\n",
              "      <td>Wired Headphones</td>\n",
              "      <td>2</td>\n",
              "      <td>11.99</td>\n",
              "      <td>23.98</td>\n",
              "      <td>2019-03-28 20:59:00</td>\n",
              "      <td>Mar</td>\n",
              "      <td>942 Church St, Austin, TX 73301</td>\n",
              "    </tr>\n",
              "    <tr>\n",
              "      <th>3</th>\n",
              "      <td>162010</td>\n",
              "      <td>Bose SoundSport Headphones</td>\n",
              "      <td>1</td>\n",
              "      <td>99.99</td>\n",
              "      <td>99.99</td>\n",
              "      <td>2019-03-17 05:39:00</td>\n",
              "      <td>Mar</td>\n",
              "      <td>261 10th St, San Francisco, CA 94016</td>\n",
              "    </tr>\n",
              "    <tr>\n",
              "      <th>4</th>\n",
              "      <td>162011</td>\n",
              "      <td>34in Ultrawide Monitor</td>\n",
              "      <td>1</td>\n",
              "      <td>379.99</td>\n",
              "      <td>379.99</td>\n",
              "      <td>2019-03-10 00:01:00</td>\n",
              "      <td>Mar</td>\n",
              "      <td>764 13th St, San Francisco, CA 94016</td>\n",
              "    </tr>\n",
              "  </tbody>\n",
              "</table>\n",
              "</div>"
            ],
            "text/plain": [
              "  order_id  ...                      purchase_address\n",
              "0   162009  ...       942 Church St, Austin, TX 73301\n",
              "1   162009  ...       942 Church St, Austin, TX 73301\n",
              "2   162009  ...       942 Church St, Austin, TX 73301\n",
              "3   162010  ...  261 10th St, San Francisco, CA 94016\n",
              "4   162011  ...  764 13th St, San Francisco, CA 94016\n",
              "\n",
              "[5 rows x 8 columns]"
            ]
          },
          "metadata": {
            "tags": []
          },
          "execution_count": 129
        }
      ]
    },
    {
      "cell_type": "code",
      "metadata": {
        "colab": {
          "base_uri": "https://localhost:8080/"
        },
        "id": "UV3Zrf28GLTy",
        "outputId": "992cab8f-9322-4727-859d-68718b804892"
      },
      "source": [
        "sales_per_year = np.round(df.total_price.aggregate('sum' ), 2)\n",
        "sales_per_year"
      ],
      "execution_count": 151,
      "outputs": [
        {
          "output_type": "execute_result",
          "data": {
            "text/plain": [
              "33879779.77"
            ]
          },
          "metadata": {
            "tags": []
          },
          "execution_count": 151
        }
      ]
    },
    {
      "cell_type": "markdown",
      "metadata": {
        "id": "gDSUGn-HHjl2"
      },
      "source": [
        "total sales was $33,879,779.79"
      ]
    },
    {
      "cell_type": "code",
      "metadata": {
        "colab": {
          "base_uri": "https://localhost:8080/"
        },
        "id": "xhIMkFonHizW",
        "outputId": "edf5fbe8-038a-419e-c998-fd03dec52ea5"
      },
      "source": [
        "# average mothly sales per year\n",
        "avg_mon_sales = sales_per_year/ 12\n",
        "avg_mon_sales"
      ],
      "execution_count": 153,
      "outputs": [
        {
          "output_type": "execute_result",
          "data": {
            "text/plain": [
              "2823314.9808333335"
            ]
          },
          "metadata": {
            "tags": []
          },
          "execution_count": 153
        }
      ]
    },
    {
      "cell_type": "code",
      "metadata": {
        "id": "LF4yyAkFB_l1"
      },
      "source": [
        "monthly_sales = df.groupby('order_month', as_index=False)['total_price'].sum()"
      ],
      "execution_count": 137,
      "outputs": []
    },
    {
      "cell_type": "code",
      "metadata": {
        "colab": {
          "base_uri": "https://localhost:8080/",
          "height": 421
        },
        "id": "SxfM3I3mCias",
        "outputId": "e23daad6-1c20-464d-dd78-7dc5c7d08e42"
      },
      "source": [
        "monthly_sales.sort_values(by =['total_price'], axis=0, ascending=False)"
      ],
      "execution_count": 142,
      "outputs": [
        {
          "output_type": "execute_result",
          "data": {
            "text/html": [
              "<div>\n",
              "<style scoped>\n",
              "    .dataframe tbody tr th:only-of-type {\n",
              "        vertical-align: middle;\n",
              "    }\n",
              "\n",
              "    .dataframe tbody tr th {\n",
              "        vertical-align: top;\n",
              "    }\n",
              "\n",
              "    .dataframe thead th {\n",
              "        text-align: right;\n",
              "    }\n",
              "</style>\n",
              "<table border=\"1\" class=\"dataframe\">\n",
              "  <thead>\n",
              "    <tr style=\"text-align: right;\">\n",
              "      <th></th>\n",
              "      <th>order_month</th>\n",
              "      <th>total_price</th>\n",
              "    </tr>\n",
              "  </thead>\n",
              "  <tbody>\n",
              "    <tr>\n",
              "      <th>2</th>\n",
              "      <td>Dec</td>\n",
              "      <td>4.557905e+06</td>\n",
              "    </tr>\n",
              "    <tr>\n",
              "      <th>10</th>\n",
              "      <td>Oct</td>\n",
              "      <td>3.679254e+06</td>\n",
              "    </tr>\n",
              "    <tr>\n",
              "      <th>0</th>\n",
              "      <td>April</td>\n",
              "      <td>3.336376e+06</td>\n",
              "    </tr>\n",
              "    <tr>\n",
              "      <th>9</th>\n",
              "      <td>Nov</td>\n",
              "      <td>3.149785e+06</td>\n",
              "    </tr>\n",
              "    <tr>\n",
              "      <th>8</th>\n",
              "      <td>May</td>\n",
              "      <td>3.101881e+06</td>\n",
              "    </tr>\n",
              "    <tr>\n",
              "      <th>7</th>\n",
              "      <td>Mar</td>\n",
              "      <td>2.755969e+06</td>\n",
              "    </tr>\n",
              "    <tr>\n",
              "      <th>5</th>\n",
              "      <td>July</td>\n",
              "      <td>2.587445e+06</td>\n",
              "    </tr>\n",
              "    <tr>\n",
              "      <th>6</th>\n",
              "      <td>June</td>\n",
              "      <td>2.524465e+06</td>\n",
              "    </tr>\n",
              "    <tr>\n",
              "      <th>1</th>\n",
              "      <td>Aug</td>\n",
              "      <td>2.191698e+06</td>\n",
              "    </tr>\n",
              "    <tr>\n",
              "      <th>3</th>\n",
              "      <td>Feb</td>\n",
              "      <td>2.158127e+06</td>\n",
              "    </tr>\n",
              "    <tr>\n",
              "      <th>11</th>\n",
              "      <td>Sept</td>\n",
              "      <td>2.050361e+06</td>\n",
              "    </tr>\n",
              "    <tr>\n",
              "      <th>4</th>\n",
              "      <td>Jan</td>\n",
              "      <td>1.786511e+06</td>\n",
              "    </tr>\n",
              "  </tbody>\n",
              "</table>\n",
              "</div>"
            ],
            "text/plain": [
              "   order_month   total_price\n",
              "2          Dec  4.557905e+06\n",
              "10         Oct  3.679254e+06\n",
              "0        April  3.336376e+06\n",
              "9          Nov  3.149785e+06\n",
              "8          May  3.101881e+06\n",
              "7          Mar  2.755969e+06\n",
              "5         July  2.587445e+06\n",
              "6         June  2.524465e+06\n",
              "1          Aug  2.191698e+06\n",
              "3          Feb  2.158127e+06\n",
              "11        Sept  2.050361e+06\n",
              "4          Jan  1.786511e+06"
            ]
          },
          "metadata": {
            "tags": []
          },
          "execution_count": 142
        }
      ]
    },
    {
      "cell_type": "code",
      "metadata": {
        "colab": {
          "base_uri": "https://localhost:8080/",
          "height": 405
        },
        "id": "_CF-9t1hDimw",
        "outputId": "b444869a-6deb-443a-8fd0-c6e06dfd59fd"
      },
      "source": [
        "\n",
        "sns.lineplot(data=monthly_sales, x='order_month', y='total_price');"
      ],
      "execution_count": 262,
      "outputs": [
        {
          "output_type": "display_data",
          "data": {
            "image/png": "[encoded data removed]",
            "text/plain": [
              "<Figure size 864x432 with 1 Axes>"
            ]
          },
          "metadata": {
            "tags": []
          }
        }
      ]
    },
    {
      "cell_type": "markdown",
      "metadata": {
        "id": "zF3W2CBIFQxI"
      },
      "source": [
        "##### Insight:\n",
        " - most sales occur in December, with January being the worst month for business.\n",
        " \n"
      ]
    },
    {
      "cell_type": "code",
      "metadata": {
        "id": "fjBcR33gFDD7"
      },
      "source": [
        "# months in which sales were above average:\n",
        "mon_above_avg = monthly_sales[monthly_sales.total_price > avg_mon_sales]['order_month']"
      ],
      "execution_count": 160,
      "outputs": []
    },
    {
      "cell_type": "code",
      "metadata": {
        "colab": {
          "base_uri": "https://localhost:8080/"
        },
        "id": "i25aywEEKddF",
        "outputId": "e0bf305a-49ef-48aa-c09a-017b5b4cfa1e"
      },
      "source": [
        "mon_above_avg"
      ],
      "execution_count": 161,
      "outputs": [
        {
          "output_type": "execute_result",
          "data": {
            "text/plain": [
              "0     April\n",
              "2       Dec\n",
              "8       May\n",
              "9       Nov\n",
              "10      Oct\n",
              "Name: order_month, dtype: object"
            ]
          },
          "metadata": {
            "tags": []
          },
          "execution_count": 161
        }
      ]
    },
    {
      "cell_type": "markdown",
      "metadata": {
        "id": "iRmMWAvDL8S-"
      },
      "source": [
        "- in the months of April, May, October and December, the company made above average monthly sales "
      ]
    },
    {
      "cell_type": "markdown",
      "metadata": {
        "id": "b-_qBdStR_jR"
      },
      "source": [
        ""
      ]
    },
    {
      "cell_type": "code",
      "metadata": {
        "id": "yLSTKjJPR-op"
      },
      "source": [
        ""
      ],
      "execution_count": null,
      "outputs": []
    },
    {
      "cell_type": "code",
      "metadata": {
        "id": "92ikoJc8Nywv"
      },
      "source": [
        "# which order made the highest purchase? \n",
        "sales_by_id = df.groupby('order_id', as_index=False)['total_price'].sum().sort_values(by =['total_price'], axis=0, ascending=False)"
      ],
      "execution_count": 188,
      "outputs": []
    },
    {
      "cell_type": "code",
      "metadata": {
        "colab": {
          "base_uri": "https://localhost:8080/",
          "height": 419
        },
        "id": "Xk8Etsl6SQm0",
        "outputId": "fec1b46c-4d7f-421b-be3a-a0649a2133d1"
      },
      "source": [
        "sales_by_id"
      ],
      "execution_count": 189,
      "outputs": [
        {
          "output_type": "execute_result",
          "data": {
            "text/html": [
              "<div>\n",
              "<style scoped>\n",
              "    .dataframe tbody tr th:only-of-type {\n",
              "        vertical-align: middle;\n",
              "    }\n",
              "\n",
              "    .dataframe tbody tr th {\n",
              "        vertical-align: top;\n",
              "    }\n",
              "\n",
              "    .dataframe thead th {\n",
              "        text-align: right;\n",
              "    }\n",
              "</style>\n",
              "<table border=\"1\" class=\"dataframe\">\n",
              "  <thead>\n",
              "    <tr style=\"text-align: right;\">\n",
              "      <th></th>\n",
              "      <th>order_id</th>\n",
              "      <th>total_price</th>\n",
              "    </tr>\n",
              "  </thead>\n",
              "  <tbody>\n",
              "    <tr>\n",
              "      <th>39065</th>\n",
              "      <td>181069</td>\n",
              "      <td>3779.99</td>\n",
              "    </tr>\n",
              "    <tr>\n",
              "      <th>112020</th>\n",
              "      <td>255318</td>\n",
              "      <td>3400.00</td>\n",
              "    </tr>\n",
              "    <tr>\n",
              "      <th>58217</th>\n",
              "      <td>200528</td>\n",
              "      <td>3400.00</td>\n",
              "    </tr>\n",
              "    <tr>\n",
              "      <th>67852</th>\n",
              "      <td>210292</td>\n",
              "      <td>3400.00</td>\n",
              "    </tr>\n",
              "    <tr>\n",
              "      <th>59867</th>\n",
              "      <td>202212</td>\n",
              "      <td>3400.00</td>\n",
              "    </tr>\n",
              "    <tr>\n",
              "      <th>...</th>\n",
              "      <td>...</td>\n",
              "      <td>...</td>\n",
              "    </tr>\n",
              "    <tr>\n",
              "      <th>20559</th>\n",
              "      <td>162223</td>\n",
              "      <td>2.99</td>\n",
              "    </tr>\n",
              "    <tr>\n",
              "      <th>91506</th>\n",
              "      <td>234402</td>\n",
              "      <td>2.99</td>\n",
              "    </tr>\n",
              "    <tr>\n",
              "      <th>91507</th>\n",
              "      <td>234403</td>\n",
              "      <td>2.99</td>\n",
              "    </tr>\n",
              "    <tr>\n",
              "      <th>91509</th>\n",
              "      <td>234405</td>\n",
              "      <td>2.99</td>\n",
              "    </tr>\n",
              "    <tr>\n",
              "      <th>37108</th>\n",
              "      <td>179064</td>\n",
              "      <td>2.99</td>\n",
              "    </tr>\n",
              "  </tbody>\n",
              "</table>\n",
              "<p>175449 rows × 2 columns</p>\n",
              "</div>"
            ],
            "text/plain": [
              "       order_id  total_price\n",
              "39065    181069      3779.99\n",
              "112020   255318      3400.00\n",
              "58217    200528      3400.00\n",
              "67852    210292      3400.00\n",
              "59867    202212      3400.00\n",
              "...         ...          ...\n",
              "20559    162223         2.99\n",
              "91506    234402         2.99\n",
              "91507    234403         2.99\n",
              "91509    234405         2.99\n",
              "37108    179064         2.99\n",
              "\n",
              "[175449 rows x 2 columns]"
            ]
          },
          "metadata": {
            "tags": []
          },
          "execution_count": 189
        }
      ]
    },
    {
      "cell_type": "markdown",
      "metadata": {
        "id": "F_TtBlMIVZ7F"
      },
      "source": [
        "- order number 39065 made the highest purchase"
      ]
    },
    {
      "cell_type": "code",
      "metadata": {
        "colab": {
          "base_uri": "https://localhost:8080/",
          "height": 111
        },
        "id": "6MB13-jAUXAu",
        "outputId": "16b66d58-5110-48b0-f059-f5605ef0ad95"
      },
      "source": [
        "df.head(2)"
      ],
      "execution_count": 190,
      "outputs": [
        {
          "output_type": "execute_result",
          "data": {
            "text/html": [
              "<div>\n",
              "<style scoped>\n",
              "    .dataframe tbody tr th:only-of-type {\n",
              "        vertical-align: middle;\n",
              "    }\n",
              "\n",
              "    .dataframe tbody tr th {\n",
              "        vertical-align: top;\n",
              "    }\n",
              "\n",
              "    .dataframe thead th {\n",
              "        text-align: right;\n",
              "    }\n",
              "</style>\n",
              "<table border=\"1\" class=\"dataframe\">\n",
              "  <thead>\n",
              "    <tr style=\"text-align: right;\">\n",
              "      <th></th>\n",
              "      <th>order_id</th>\n",
              "      <th>product</th>\n",
              "      <th>quantity_ordered</th>\n",
              "      <th>price_each</th>\n",
              "      <th>total_price</th>\n",
              "      <th>order_date</th>\n",
              "      <th>order_month</th>\n",
              "      <th>purchase_address</th>\n",
              "    </tr>\n",
              "  </thead>\n",
              "  <tbody>\n",
              "    <tr>\n",
              "      <th>0</th>\n",
              "      <td>162009</td>\n",
              "      <td>iPhone</td>\n",
              "      <td>1</td>\n",
              "      <td>700.00</td>\n",
              "      <td>700.00</td>\n",
              "      <td>2019-03-28 20:59:00</td>\n",
              "      <td>Mar</td>\n",
              "      <td>942 Church St, Austin, TX 73301</td>\n",
              "    </tr>\n",
              "    <tr>\n",
              "      <th>1</th>\n",
              "      <td>162009</td>\n",
              "      <td>Lightning Charging Cable</td>\n",
              "      <td>1</td>\n",
              "      <td>14.95</td>\n",
              "      <td>14.95</td>\n",
              "      <td>2019-03-28 20:59:00</td>\n",
              "      <td>Mar</td>\n",
              "      <td>942 Church St, Austin, TX 73301</td>\n",
              "    </tr>\n",
              "  </tbody>\n",
              "</table>\n",
              "</div>"
            ],
            "text/plain": [
              "  order_id  ...                 purchase_address\n",
              "0   162009  ...  942 Church St, Austin, TX 73301\n",
              "1   162009  ...  942 Church St, Austin, TX 73301\n",
              "\n",
              "[2 rows x 8 columns]"
            ]
          },
          "metadata": {
            "tags": []
          },
          "execution_count": 190
        }
      ]
    },
    {
      "cell_type": "code",
      "metadata": {
        "id": "Zj5AxEkrVxoz"
      },
      "source": [
        ""
      ],
      "execution_count": null,
      "outputs": []
    },
    {
      "cell_type": "markdown",
      "metadata": {
        "id": "Zgbu0SxpWAeW"
      },
      "source": [
        "#### Analysis of product:\n",
        "  - what are the various product categories?\n",
        "  - which product are the most popular?\n",
        "  -which product has the highest quantity ordered?\n",
        "  - what is the popularity of the products by month?\n",
        "  -which is the best selling product?\n",
        "  -which is the best selling product in each month?"
      ]
    },
    {
      "cell_type": "code",
      "metadata": {
        "id": "HLqyJsA4Xeaq"
      },
      "source": [
        "# product categories \n",
        "df.rename(columns={'product':'product_name'}, inplace=True) #-> df.product.unique was raising error(i guess a name collision) so I had to rename the column"
      ],
      "execution_count": 216,
      "outputs": []
    },
    {
      "cell_type": "code",
      "metadata": {
        "colab": {
          "base_uri": "https://localhost:8080/"
        },
        "id": "idfR8HWsXlJ2",
        "outputId": "ebaadbf8-15f9-4263-80f8-8760e93f95a3"
      },
      "source": [
        "list(df.product_name.unique())"
      ],
      "execution_count": 206,
      "outputs": [
        {
          "output_type": "execute_result",
          "data": {
            "text/plain": [
              "['iPhone',\n",
              " 'Lightning Charging Cable',\n",
              " 'Wired Headphones',\n",
              " 'Bose SoundSport Headphones',\n",
              " '34in Ultrawide Monitor',\n",
              " 'AA Batteries (4-pack)',\n",
              " 'USB-C Charging Cable',\n",
              " 'AAA Batteries (4-pack)',\n",
              " 'LG Washing Machine',\n",
              " 'Apple Airpods Headphones',\n",
              " '27in 4K Gaming Monitor',\n",
              " 'Google Phone',\n",
              " 'Macbook Pro Laptop',\n",
              " '27in FHD Monitor',\n",
              " 'ThinkPad Laptop',\n",
              " 'Vareebadd Phone',\n",
              " 'Flatscreen TV',\n",
              " '20in Monitor',\n",
              " 'LG Dryer']"
            ]
          },
          "metadata": {
            "tags": []
          },
          "execution_count": 206
        }
      ]
    },
    {
      "cell_type": "code",
      "metadata": {
        "colab": {
          "base_uri": "https://localhost:8080/"
        },
        "id": "2uB0DzNOZAHb",
        "outputId": "ea6681e8-45c9-4930-8a34-4ad73c196299"
      },
      "source": [
        "df.product_name.nunique()"
      ],
      "execution_count": 207,
      "outputs": [
        {
          "output_type": "execute_result",
          "data": {
            "text/plain": [
              "19"
            ]
          },
          "metadata": {
            "tags": []
          },
          "execution_count": 207
        }
      ]
    },
    {
      "cell_type": "markdown",
      "metadata": {
        "id": "RL7sUcGyZ8Kg"
      },
      "source": [
        "- there are 19 products in the dataset"
      ]
    },
    {
      "cell_type": "code",
      "metadata": {
        "colab": {
          "base_uri": "https://localhost:8080/",
          "height": 411
        },
        "id": "qdZqLngNZwou",
        "outputId": "651c11fa-f302-473f-b280-c7e43ddab108"
      },
      "source": [
        "# most popular product\n",
        "sns.countplot(data=df, y='product_name')"
      ],
      "execution_count": 214,
      "outputs": [
        {
          "output_type": "execute_result",
          "data": {
            "text/plain": [
              "<matplotlib.axes._subplots.AxesSubplot at 0x7ff081631490>"
            ]
          },
          "metadata": {
            "tags": []
          },
          "execution_count": 214
        },
        {
          "output_type": "display_data",
          "data": {
            "image/png": "[encoded data removed]",
            "text/plain": [
              "<Figure size 864x432 with 1 Axes>"
            ]
          },
          "metadata": {
            "tags": []
          }
        }
      ]
    },
    {
      "cell_type": "code",
      "metadata": {
        "colab": {
          "base_uri": "https://localhost:8080/"
        },
        "id": "07vBTh88aWeG",
        "outputId": "306911e3-72db-4079-bff7-285b89fa358c"
      },
      "source": [
        "df.product_name.value_counts()"
      ],
      "execution_count": 215,
      "outputs": [
        {
          "output_type": "execute_result",
          "data": {
            "text/plain": [
              "USB-C Charging Cable          21523\n",
              "Lightning Charging Cable      21308\n",
              "AAA Batteries (4-pack)        20293\n",
              "AA Batteries (4-pack)         20214\n",
              "Wired Headphones              18552\n",
              "Apple Airpods Headphones      15273\n",
              "Bose SoundSport Headphones    13109\n",
              "27in FHD Monitor               7386\n",
              "iPhone                         6725\n",
              "27in 4K Gaming Monitor         6122\n",
              "34in Ultrawide Monitor         6058\n",
              "Google Phone                   5433\n",
              "Flatscreen TV                  4705\n",
              "Macbook Pro Laptop             4641\n",
              "ThinkPad Laptop                4052\n",
              "20in Monitor                   4032\n",
              "Vareebadd Phone                2020\n",
              "LG Washing Machine              649\n",
              "LG Dryer                        640\n",
              "Name: product_name, dtype: int64"
            ]
          },
          "metadata": {
            "tags": []
          },
          "execution_count": 215
        }
      ]
    },
    {
      "cell_type": "markdown",
      "metadata": {
        "id": "CAiLQuNacsT5"
      },
      "source": [
        "- USB-C Charging Cable is the most popular product. There were 21,523 orders placed on this product in that year.\n",
        "- LG dryer is the least popular product, having only 640 orders all through the year"
      ]
    },
    {
      "cell_type": "code",
      "metadata": {
        "id": "Q3tnUEAEbO6f"
      },
      "source": [
        "# product with the highest quantity ordered:\n",
        "highest_qty = df.groupby('product_name', as_index=False)['quantity_ordered'].sum()"
      ],
      "execution_count": 230,
      "outputs": []
    },
    {
      "cell_type": "code",
      "metadata": {
        "colab": {
          "base_uri": "https://localhost:8080/",
          "height": 638
        },
        "id": "A4vbaNZ3e4fx",
        "outputId": "5935cdcb-3740-4166-8f65-90e6a8479712"
      },
      "source": [
        "highest_qty.sort_values(by=['quantity_ordered'], axis=0, ascending=False)"
      ],
      "execution_count": 224,
      "outputs": [
        {
          "output_type": "execute_result",
          "data": {
            "text/html": [
              "<div>\n",
              "<style scoped>\n",
              "    .dataframe tbody tr th:only-of-type {\n",
              "        vertical-align: middle;\n",
              "    }\n",
              "\n",
              "    .dataframe tbody tr th {\n",
              "        vertical-align: top;\n",
              "    }\n",
              "\n",
              "    .dataframe thead th {\n",
              "        text-align: right;\n",
              "    }\n",
              "</style>\n",
              "<table border=\"1\" class=\"dataframe\">\n",
              "  <thead>\n",
              "    <tr style=\"text-align: right;\">\n",
              "      <th></th>\n",
              "      <th>product_name</th>\n",
              "      <th>quantity_ordered</th>\n",
              "    </tr>\n",
              "  </thead>\n",
              "  <tbody>\n",
              "    <tr>\n",
              "      <th>5</th>\n",
              "      <td>AAA Batteries (4-pack)</td>\n",
              "      <td>30487</td>\n",
              "    </tr>\n",
              "    <tr>\n",
              "      <th>4</th>\n",
              "      <td>AA Batteries (4-pack)</td>\n",
              "      <td>27148</td>\n",
              "    </tr>\n",
              "    <tr>\n",
              "      <th>15</th>\n",
              "      <td>USB-C Charging Cable</td>\n",
              "      <td>23555</td>\n",
              "    </tr>\n",
              "    <tr>\n",
              "      <th>12</th>\n",
              "      <td>Lightning Charging Cable</td>\n",
              "      <td>22841</td>\n",
              "    </tr>\n",
              "    <tr>\n",
              "      <th>17</th>\n",
              "      <td>Wired Headphones</td>\n",
              "      <td>20201</td>\n",
              "    </tr>\n",
              "    <tr>\n",
              "      <th>6</th>\n",
              "      <td>Apple Airpods Headphones</td>\n",
              "      <td>15383</td>\n",
              "    </tr>\n",
              "    <tr>\n",
              "      <th>7</th>\n",
              "      <td>Bose SoundSport Headphones</td>\n",
              "      <td>13236</td>\n",
              "    </tr>\n",
              "    <tr>\n",
              "      <th>2</th>\n",
              "      <td>27in FHD Monitor</td>\n",
              "      <td>7429</td>\n",
              "    </tr>\n",
              "    <tr>\n",
              "      <th>18</th>\n",
              "      <td>iPhone</td>\n",
              "      <td>6732</td>\n",
              "    </tr>\n",
              "    <tr>\n",
              "      <th>1</th>\n",
              "      <td>27in 4K Gaming Monitor</td>\n",
              "      <td>6134</td>\n",
              "    </tr>\n",
              "    <tr>\n",
              "      <th>3</th>\n",
              "      <td>34in Ultrawide Monitor</td>\n",
              "      <td>6076</td>\n",
              "    </tr>\n",
              "    <tr>\n",
              "      <th>9</th>\n",
              "      <td>Google Phone</td>\n",
              "      <td>5440</td>\n",
              "    </tr>\n",
              "    <tr>\n",
              "      <th>8</th>\n",
              "      <td>Flatscreen TV</td>\n",
              "      <td>4724</td>\n",
              "    </tr>\n",
              "    <tr>\n",
              "      <th>13</th>\n",
              "      <td>Macbook Pro Laptop</td>\n",
              "      <td>4645</td>\n",
              "    </tr>\n",
              "    <tr>\n",
              "      <th>0</th>\n",
              "      <td>20in Monitor</td>\n",
              "      <td>4058</td>\n",
              "    </tr>\n",
              "    <tr>\n",
              "      <th>14</th>\n",
              "      <td>ThinkPad Laptop</td>\n",
              "      <td>4054</td>\n",
              "    </tr>\n",
              "    <tr>\n",
              "      <th>16</th>\n",
              "      <td>Vareebadd Phone</td>\n",
              "      <td>2023</td>\n",
              "    </tr>\n",
              "    <tr>\n",
              "      <th>11</th>\n",
              "      <td>LG Washing Machine</td>\n",
              "      <td>649</td>\n",
              "    </tr>\n",
              "    <tr>\n",
              "      <th>10</th>\n",
              "      <td>LG Dryer</td>\n",
              "      <td>640</td>\n",
              "    </tr>\n",
              "  </tbody>\n",
              "</table>\n",
              "</div>"
            ],
            "text/plain": [
              "                  product_name  quantity_ordered\n",
              "5       AAA Batteries (4-pack)             30487\n",
              "4        AA Batteries (4-pack)             27148\n",
              "15        USB-C Charging Cable             23555\n",
              "12    Lightning Charging Cable             22841\n",
              "17            Wired Headphones             20201\n",
              "6     Apple Airpods Headphones             15383\n",
              "7   Bose SoundSport Headphones             13236\n",
              "2             27in FHD Monitor              7429\n",
              "18                      iPhone              6732\n",
              "1       27in 4K Gaming Monitor              6134\n",
              "3       34in Ultrawide Monitor              6076\n",
              "9                 Google Phone              5440\n",
              "8                Flatscreen TV              4724\n",
              "13          Macbook Pro Laptop              4645\n",
              "0                 20in Monitor              4058\n",
              "14             ThinkPad Laptop              4054\n",
              "16             Vareebadd Phone              2023\n",
              "11          LG Washing Machine               649\n",
              "10                    LG Dryer               640"
            ]
          },
          "metadata": {
            "tags": []
          },
          "execution_count": 224
        }
      ]
    },
    {
      "cell_type": "code",
      "metadata": {
        "colab": {
          "base_uri": "https://localhost:8080/",
          "height": 394
        },
        "id": "FJi0I8wae6BS",
        "outputId": "e875e11c-1a59-41f8-c505-894d94c2db43"
      },
      "source": [
        "sns.barplot(data=highest_qty, x='quantity_ordered', y='product_name');"
      ],
      "execution_count": 229,
      "outputs": [
        {
          "output_type": "display_data",
          "data": {
            "image/png": "[encoded data removed]",
            "text/plain": [
              "<Figure size 864x432 with 1 Axes>"
            ]
          },
          "metadata": {
            "tags": []
          }
        }
      ]
    },
    {
      "cell_type": "code",
      "metadata": {
        "id": "AkHFY9l2f0Lf"
      },
      "source": [
        "pop_by_month = df.groupby(['order_month', 'product_name'], as_index=False)['total_price'].sum()"
      ],
      "execution_count": 252,
      "outputs": []
    },
    {
      "cell_type": "code",
      "metadata": {
        "colab": {
          "base_uri": "https://localhost:8080/",
          "height": 419
        },
        "id": "RnfL_GmZh9GX",
        "outputId": "2b82b392-837d-43a0-ce0d-b3f539e209c1"
      },
      "source": [
        "pop_by_month"
      ],
      "execution_count": 253,
      "outputs": [
        {
          "output_type": "execute_result",
          "data": {
            "text/html": [
              "<div>\n",
              "<style scoped>\n",
              "    .dataframe tbody tr th:only-of-type {\n",
              "        vertical-align: middle;\n",
              "    }\n",
              "\n",
              "    .dataframe tbody tr th {\n",
              "        vertical-align: top;\n",
              "    }\n",
              "\n",
              "    .dataframe thead th {\n",
              "        text-align: right;\n",
              "    }\n",
              "</style>\n",
              "<table border=\"1\" class=\"dataframe\">\n",
              "  <thead>\n",
              "    <tr style=\"text-align: right;\">\n",
              "      <th></th>\n",
              "      <th>order_month</th>\n",
              "      <th>product_name</th>\n",
              "      <th>total_price</th>\n",
              "    </tr>\n",
              "  </thead>\n",
              "  <tbody>\n",
              "    <tr>\n",
              "      <th>0</th>\n",
              "      <td>April</td>\n",
              "      <td>20in Monitor</td>\n",
              "      <td>42566.13</td>\n",
              "    </tr>\n",
              "    <tr>\n",
              "      <th>1</th>\n",
              "      <td>April</td>\n",
              "      <td>27in 4K Gaming Monitor</td>\n",
              "      <td>216834.44</td>\n",
              "    </tr>\n",
              "    <tr>\n",
              "      <th>2</th>\n",
              "      <td>April</td>\n",
              "      <td>27in FHD Monitor</td>\n",
              "      <td>108892.74</td>\n",
              "    </tr>\n",
              "    <tr>\n",
              "      <th>3</th>\n",
              "      <td>April</td>\n",
              "      <td>34in Ultrawide Monitor</td>\n",
              "      <td>243193.60</td>\n",
              "    </tr>\n",
              "    <tr>\n",
              "      <th>4</th>\n",
              "      <td>April</td>\n",
              "      <td>AA Batteries (4-pack)</td>\n",
              "      <td>10632.96</td>\n",
              "    </tr>\n",
              "    <tr>\n",
              "      <th>...</th>\n",
              "      <td>...</td>\n",
              "      <td>...</td>\n",
              "      <td>...</td>\n",
              "    </tr>\n",
              "    <tr>\n",
              "      <th>223</th>\n",
              "      <td>Sept</td>\n",
              "      <td>ThinkPad Laptop</td>\n",
              "      <td>239997.60</td>\n",
              "    </tr>\n",
              "    <tr>\n",
              "      <th>224</th>\n",
              "      <td>Sept</td>\n",
              "      <td>USB-C Charging Cable</td>\n",
              "      <td>18713.70</td>\n",
              "    </tr>\n",
              "    <tr>\n",
              "      <th>225</th>\n",
              "      <td>Sept</td>\n",
              "      <td>Vareebadd Phone</td>\n",
              "      <td>48000.00</td>\n",
              "    </tr>\n",
              "    <tr>\n",
              "      <th>226</th>\n",
              "      <td>Sept</td>\n",
              "      <td>Wired Headphones</td>\n",
              "      <td>15251.28</td>\n",
              "    </tr>\n",
              "    <tr>\n",
              "      <th>227</th>\n",
              "      <td>Sept</td>\n",
              "      <td>iPhone</td>\n",
              "      <td>269500.00</td>\n",
              "    </tr>\n",
              "  </tbody>\n",
              "</table>\n",
              "<p>228 rows × 3 columns</p>\n",
              "</div>"
            ],
            "text/plain": [
              "    order_month            product_name  total_price\n",
              "0         April            20in Monitor     42566.13\n",
              "1         April  27in 4K Gaming Monitor    216834.44\n",
              "2         April        27in FHD Monitor    108892.74\n",
              "3         April  34in Ultrawide Monitor    243193.60\n",
              "4         April   AA Batteries (4-pack)     10632.96\n",
              "..          ...                     ...          ...\n",
              "223        Sept         ThinkPad Laptop    239997.60\n",
              "224        Sept    USB-C Charging Cable     18713.70\n",
              "225        Sept         Vareebadd Phone     48000.00\n",
              "226        Sept        Wired Headphones     15251.28\n",
              "227        Sept                  iPhone    269500.00\n",
              "\n",
              "[228 rows x 3 columns]"
            ]
          },
          "metadata": {
            "tags": []
          },
          "execution_count": 253
        }
      ]
    },
    {
      "cell_type": "code",
      "metadata": {
        "colab": {
          "base_uri": "https://localhost:8080/",
          "height": 639
        },
        "id": "qPqASQ0Kk5Xb",
        "outputId": "f172a0d9-7443-4955-fcc6-88299d929aa8"
      },
      "source": [
        "plt.figure(figsize=(16,10))\n",
        "sns.lineplot(data=pop_by_month, x='order_month', y='total_price', hue='product_name', palette='Paired')\n"
      ],
      "execution_count": 260,
      "outputs": [
        {
          "output_type": "execute_result",
          "data": {
            "text/plain": [
              "<matplotlib.axes._subplots.AxesSubplot at 0x7ff0800a5c50>"
            ]
          },
          "metadata": {
            "tags": []
          },
          "execution_count": 260
        },
        {
          "output_type": "display_data",
          "data": {
            "image/png": "[encoded data removed]",
            "text/plain": [
              "<Figure size 1152x720 with 1 Axes>"
            ]
          },
          "metadata": {
            "tags": []
          }
        }
      ]
    },
    {
      "cell_type": "markdown",
      "metadata": {
        "id": "lweazbYpnKCq"
      },
      "source": [
        "- sales of all product showed similar seasonality across the year. \n",
        "- All through the year, the Lightning Charging cable was the most sold"
      ]
    },
    {
      "cell_type": "code",
      "metadata": {
        "id": "I4LEfum3lmVv"
      },
      "source": [
        "# save data for future update\n",
        "df.to_csv('sales.csv', index=False)"
      ],
      "execution_count": 261,
      "outputs": []
    },
    {
      "cell_type": "code",
      "metadata": {
        "id": "JTQoRcQooyXa"
      },
      "source": [
        ""
      ],
      "execution_count": null,
      "outputs": []
    }
  ]
}