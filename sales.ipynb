{
  "nbformat": 4,
  "nbformat_minor": 0,
  "metadata": {
    "colab": {
      "name": "sales.ipynb",
      "provenance": [],
      "collapsed_sections": [],
      "authorship_tag": "ABX9TyO7/YK24CJQiO9QIeGrdpVl",
      "include_colab_link": true
    },
    "kernelspec": {
      "name": "python3",
      "display_name": "Python 3"
    },
    "language_info": {
      "name": "python"
    }
  },
  "cells": [
    {
      "cell_type": "markdown",
      "metadata": {
        "id": "view-in-github",
        "colab_type": "text"
      },
      "source": [
        "<a href=\"https://colab.research.google.com/github/bolafadipe/Sales_EDA/blob/main/sales.ipynb\" target=\"_parent\"><img src=\"https://colab.research.google.com/assets/colab-badge.svg\" alt=\"Open In Colab\"/></a>"
      ]
    },
    {
      "cell_type": "markdown",
      "metadata": {
        "id": "r7WO-LGNoOK1"
      },
      "source": [
        "# Exploratory data analysis of a sales dataset\n",
        "- data was sourced from : https://github.com/KeithGalli/Pandas-Data-Science-Tasks/tree/master/SalesAnalysis/Sales_Data (Thanks Keith Galli :))\n",
        "- the folder consist of files containing 12 months of sales data\n",
        "- data analysis will be done in google colaboratory"
      ]
    },
    {
      "cell_type": "code",
      "metadata": {
        "id": "10bzJZqld0zD"
      },
      "source": [
        "# Importing necessary libraries/modules\n",
        "\n",
        "# scientific libs\n",
        "import pandas as pd\n",
        "import numpy as np\n",
        "\n",
        "# visualization libs\n",
        "import matplotlib.pyplot as plt\n",
        "import seaborn as sns\n",
        "from matplotlib import rcParams\n",
        "\n",
        "# helper libs\n",
        "import time\n",
        "import datetime\n",
        "import glob # to get filenames with matching pattern\n",
        "import warnings\n",
        "warnings.filterwarnings('ignore')"
      ],
      "execution_count": 1,
      "outputs": []
    },
    {
      "cell_type": "code",
      "metadata": {
        "id": "EdGRpROEE1wQ"
      },
      "source": [
        "# Global setup\n",
        "\n",
        "# Visuals\n",
        "plt.style.use('fivethirtyeight')\n",
        "plt.rc('xtick', labelsize=10)\n",
        "plt.rc('ytick', labelsize=10)\n",
        "custom_colors = ('#2A9D8F', '#5BBA6F', '#3FA34D', '#2A9134', '#137547', '#054A29' )\n",
        "sns.set_palette(custom_colors)\n",
        "\n",
        "# pandas\n",
        "pd.set_option('max_colwidth', 40)\n",
        "pd.set_option('precision', 2)\n",
        "from IPython.core.interactiveshell import InteractiveShell\n",
        "InteractiveShell.ast_node_interactivity = 'all'"
      ],
      "execution_count": 2,
      "outputs": []
    },
    {
      "cell_type": "code",
      "metadata": {
        "id": "tKeuQJ02iodo"
      },
      "source": [
        "# getting a list of all files in the folder with matching pattern\n",
        "path = '/content/sales'\n",
        "files =  glob.glob(path + '/*.csv')\n"
      ],
      "execution_count": 3,
      "outputs": []
    },
    {
      "cell_type": "code",
      "metadata": {
        "colab": {
          "base_uri": "https://localhost:8080/"
        },
        "id": "uOK6k538lNmX",
        "outputId": "2a9fa54e-1e60-4857-c3e4-d17817c52c97"
      },
      "source": [
        "print(files)"
      ],
      "execution_count": 4,
      "outputs": [
        {
          "output_type": "stream",
          "text": [
            "['/content/sales/Sales_December_2019.csv', '/content/sales/Sales_February_2019.csv', '/content/sales/Sales_October_2019.csv', '/content/sales/Sales_March_2019.csv', '/content/sales/Sales_April_2019.csv', '/content/sales/Sales_September_2019.csv', '/content/sales/Sales_May_2019.csv', '/content/sales/Sales_June_2019.csv', '/content/sales/Sales_November_2019.csv', '/content/sales/Sales_July_2019.csv', '/content/sales/Sales_August_2019.csv', '/content/sales/Sales_January_2019.csv']\n"
          ],
          "name": "stdout"
        }
      ]
    },
    {
      "cell_type": "code",
      "metadata": {
        "id": "bvwRW7QNjWYo"
      },
      "source": [
        "# initialising an empty sales list\n",
        "sales = []"
      ],
      "execution_count": 5,
      "outputs": []
    },
    {
      "cell_type": "code",
      "metadata": {
        "colab": {
          "base_uri": "https://localhost:8080/"
        },
        "id": "hGA1zl9sjlcr",
        "outputId": "12ad2971-9ec7-4c6b-cd9c-ea42d3ced0d5"
      },
      "source": [
        "# looping through all the file in files and creating dataframes which are saved to the empty sales list\n",
        "for file in files:\n",
        "  sales_data = pd.read_csv(file)\n",
        "  sales.append(sales_data)\n",
        "  print(f'Successfully created dataframe for {file} with shape {sales_data.shape}') # check if iteration was successful"
      ],
      "execution_count": 6,
      "outputs": [
        {
          "output_type": "stream",
          "text": [
            "Successfully created dataframe for /content/sales/Sales_December_2019.csv with shape (25117, 6)\n",
            "Successfully created dataframe for /content/sales/Sales_February_2019.csv with shape (12036, 6)\n",
            "Successfully created dataframe for /content/sales/Sales_October_2019.csv with shape (20379, 6)\n",
            "Successfully created dataframe for /content/sales/Sales_March_2019.csv with shape (15226, 6)\n",
            "Successfully created dataframe for /content/sales/Sales_April_2019.csv with shape (18383, 6)\n",
            "Successfully created dataframe for /content/sales/Sales_September_2019.csv with shape (11686, 6)\n",
            "Successfully created dataframe for /content/sales/Sales_May_2019.csv with shape (16635, 6)\n",
            "Successfully created dataframe for /content/sales/Sales_June_2019.csv with shape (13622, 6)\n",
            "Successfully created dataframe for /content/sales/Sales_November_2019.csv with shape (17661, 6)\n",
            "Successfully created dataframe for /content/sales/Sales_July_2019.csv with shape (14371, 6)\n",
            "Successfully created dataframe for /content/sales/Sales_August_2019.csv with shape (12011, 6)\n",
            "Successfully created dataframe for /content/sales/Sales_January_2019.csv with shape (9723, 6)\n"
          ],
          "name": "stdout"
        }
      ]
    },
    {
      "cell_type": "code",
      "metadata": {
        "id": "ZndUjL9mkfw6"
      },
      "source": [
        "# joining each created created dataframe vertically\n",
        "data = pd.concat(sales, axis = 0)"
      ],
      "execution_count": 7,
      "outputs": []
    },
    {
      "cell_type": "code",
      "metadata": {
        "id": "J27WOtOImaTq"
      },
      "source": [
        "# creating a copy of the dataframe in order to have a backup\n",
        "df = data.copy()"
      ],
      "execution_count": 8,
      "outputs": []
    },
    {
      "cell_type": "code",
      "metadata": {
        "colab": {
          "base_uri": "https://localhost:8080/"
        },
        "id": "QEn1TX6ECZKJ",
        "outputId": "15899ef8-2c5f-4c95-b0f5-1ff239770bce"
      },
      "source": [
        "# checking the shape of the new dataframe\n",
        "df.shape"
      ],
      "execution_count": 9,
      "outputs": [
        {
          "output_type": "execute_result",
          "data": {
            "text/plain": [
              "(186850, 6)"
            ]
          },
          "metadata": {
            "tags": []
          },
          "execution_count": 9
        }
      ]
    },
    {
      "cell_type": "markdown",
      "metadata": {
        "id": "XXlglgWSrzZd"
      },
      "source": [
        "### View of basic info about the data "
      ]
    },
    {
      "cell_type": "code",
      "metadata": {
        "colab": {
          "base_uri": "https://localhost:8080/",
          "height": 204
        },
        "id": "oYtdNjaFkqJ6",
        "outputId": "a9954fc5-7ab0-4f18-bd5b-710a637039f7"
      },
      "source": [
        "# checking 5 random samples of the dataframe\n",
        "df.sample(5)"
      ],
      "execution_count": 10,
      "outputs": [
        {
          "output_type": "execute_result",
          "data": {
            "text/html": [
              "<div>\n",
              "<style scoped>\n",
              "    .dataframe tbody tr th:only-of-type {\n",
              "        vertical-align: middle;\n",
              "    }\n",
              "\n",
              "    .dataframe tbody tr th {\n",
              "        vertical-align: top;\n",
              "    }\n",
              "\n",
              "    .dataframe thead th {\n",
              "        text-align: right;\n",
              "    }\n",
              "</style>\n",
              "<table border=\"1\" class=\"dataframe\">\n",
              "  <thead>\n",
              "    <tr style=\"text-align: right;\">\n",
              "      <th></th>\n",
              "      <th>Order ID</th>\n",
              "      <th>Product</th>\n",
              "      <th>Quantity Ordered</th>\n",
              "      <th>Price Each</th>\n",
              "      <th>Order Date</th>\n",
              "      <th>Purchase Address</th>\n",
              "    </tr>\n",
              "  </thead>\n",
              "  <tbody>\n",
              "    <tr>\n",
              "      <th>2022</th>\n",
              "      <td>261284</td>\n",
              "      <td>Google Phone</td>\n",
              "      <td>1</td>\n",
              "      <td>600</td>\n",
              "      <td>10/31/19 06:56</td>\n",
              "      <td>764 14th St, Dallas, TX 75001</td>\n",
              "    </tr>\n",
              "    <tr>\n",
              "      <th>8823</th>\n",
              "      <td>184983</td>\n",
              "      <td>AA Batteries (4-pack)</td>\n",
              "      <td>1</td>\n",
              "      <td>3.84</td>\n",
              "      <td>04/19/19 19:36</td>\n",
              "      <td>940 Walnut St, San Francisco, CA 94016</td>\n",
              "    </tr>\n",
              "    <tr>\n",
              "      <th>11896</th>\n",
              "      <td>221269</td>\n",
              "      <td>AA Batteries (4-pack)</td>\n",
              "      <td>2</td>\n",
              "      <td>3.84</td>\n",
              "      <td>06/21/19 22:29</td>\n",
              "      <td>320 River St, New York City, NY 10001</td>\n",
              "    </tr>\n",
              "    <tr>\n",
              "      <th>12747</th>\n",
              "      <td>290974</td>\n",
              "      <td>AAA Batteries (4-pack)</td>\n",
              "      <td>1</td>\n",
              "      <td>2.99</td>\n",
              "      <td>11/29/19 17:21</td>\n",
              "      <td>806 Jackson St, New York City, NY 10001</td>\n",
              "    </tr>\n",
              "    <tr>\n",
              "      <th>1952</th>\n",
              "      <td>297519</td>\n",
              "      <td>Lightning Charging Cable</td>\n",
              "      <td>1</td>\n",
              "      <td>14.95</td>\n",
              "      <td>12/02/19 09:18</td>\n",
              "      <td>899 River St, Boston, MA 02215</td>\n",
              "    </tr>\n",
              "  </tbody>\n",
              "</table>\n",
              "</div>"
            ],
            "text/plain": [
              "      Order ID  ...                         Purchase Address\n",
              "2022    261284  ...            764 14th St, Dallas, TX 75001\n",
              "8823    184983  ...   940 Walnut St, San Francisco, CA 94016\n",
              "11896   221269  ...    320 River St, New York City, NY 10001\n",
              "12747   290974  ...  806 Jackson St, New York City, NY 10001\n",
              "1952    297519  ...           899 River St, Boston, MA 02215\n",
              "\n",
              "[5 rows x 6 columns]"
            ]
          },
          "metadata": {
            "tags": []
          },
          "execution_count": 10
        }
      ]
    },
    {
      "cell_type": "code",
      "metadata": {
        "colab": {
          "base_uri": "https://localhost:8080/"
        },
        "id": "byuC7GtLKd3R",
        "outputId": "4ee907c8-fb42-46bd-edc9-12313b200215"
      },
      "source": [
        "# checking list of column names\n",
        "df.columns.to_list()"
      ],
      "execution_count": 11,
      "outputs": [
        {
          "output_type": "execute_result",
          "data": {
            "text/plain": [
              "['Order ID',\n",
              " 'Product',\n",
              " 'Quantity Ordered',\n",
              " 'Price Each',\n",
              " 'Order Date',\n",
              " 'Purchase Address']"
            ]
          },
          "metadata": {
            "tags": []
          },
          "execution_count": 11
        }
      ]
    },
    {
      "cell_type": "markdown",
      "metadata": {
        "id": "y6uoOAfQMWaM"
      },
      "source": [
        "*The column names will be edited for ease of indexing*"
      ]
    },
    {
      "cell_type": "code",
      "metadata": {
        "colab": {
          "base_uri": "https://localhost:8080/"
        },
        "id": "emxnT8ZpMDF-",
        "outputId": "f286e5c2-fc24-4ee7-c889-94bb02630f21"
      },
      "source": [
        "# editing column names\n",
        "df.columns = [col.lower().replace(' ', '_') for col in df.columns]\n",
        "df.columns"
      ],
      "execution_count": 12,
      "outputs": [
        {
          "output_type": "execute_result",
          "data": {
            "text/plain": [
              "Index(['order_id', 'product', 'quantity_ordered', 'price_each', 'order_date',\n",
              "       'purchase_address'],\n",
              "      dtype='object')"
            ]
          },
          "metadata": {
            "tags": []
          },
          "execution_count": 12
        }
      ]
    },
    {
      "cell_type": "code",
      "metadata": {
        "id": "quXeY_kPK2Gm"
      },
      "source": [
        "df.rename(columns={'product':'product_name'}, inplace=True)"
      ],
      "execution_count": 15,
      "outputs": []
    },
    {
      "cell_type": "code",
      "metadata": {
        "colab": {
          "base_uri": "https://localhost:8080/"
        },
        "id": "FnZM40osLEK7",
        "outputId": "f1360b28-a910-4acc-9b72-53e7411d5250"
      },
      "source": [
        "df.columns"
      ],
      "execution_count": 16,
      "outputs": [
        {
          "output_type": "execute_result",
          "data": {
            "text/plain": [
              "Index(['order_id', 'product_name', 'quantity_ordered', 'price_each',\n",
              "       'order_date', 'purchase_address'],\n",
              "      dtype='object')"
            ]
          },
          "metadata": {
            "tags": []
          },
          "execution_count": 16
        }
      ]
    },
    {
      "cell_type": "code",
      "metadata": {
        "colab": {
          "base_uri": "https://localhost:8080/"
        },
        "id": "xkmD9IZ7Najs",
        "outputId": "34344db4-6fe8-49a0-c88e-2987fdd92bc7"
      },
      "source": [
        "df.info()"
      ],
      "execution_count": 17,
      "outputs": [
        {
          "output_type": "stream",
          "text": [
            "<class 'pandas.core.frame.DataFrame'>\n",
            "Int64Index: 186850 entries, 0 to 9722\n",
            "Data columns (total 6 columns):\n",
            " #   Column            Non-Null Count   Dtype \n",
            "---  ------            --------------   ----- \n",
            " 0   order_id          186305 non-null  object\n",
            " 1   product_name      186305 non-null  object\n",
            " 2   quantity_ordered  186305 non-null  object\n",
            " 3   price_each        186305 non-null  object\n",
            " 4   order_date        186305 non-null  object\n",
            " 5   purchase_address  186305 non-null  object\n",
            "dtypes: object(6)\n",
            "memory usage: 10.0+ MB\n"
          ],
          "name": "stdout"
        }
      ]
    },
    {
      "cell_type": "markdown",
      "metadata": {
        "id": "X3ewNX2JOB44"
      },
      "source": [
        "### Cleaning the data\n",
        "##### TODOS:-\n",
        "  - check for and handle missing values\n",
        "  - check for and handle duplicated values\n",
        "  - handle datatypes"
      ]
    },
    {
      "cell_type": "code",
      "metadata": {
        "colab": {
          "base_uri": "https://localhost:8080/"
        },
        "id": "E0LO5WjSNx8_",
        "outputId": "81dca8ed-1103-4a3a-f66e-5b8a0f4f6c5c"
      },
      "source": [
        "# checking for missing values\n",
        "df.isna().sum()"
      ],
      "execution_count": 18,
      "outputs": [
        {
          "output_type": "execute_result",
          "data": {
            "text/plain": [
              "order_id            545\n",
              "product_name        545\n",
              "quantity_ordered    545\n",
              "price_each          545\n",
              "order_date          545\n",
              "purchase_address    545\n",
              "dtype: int64"
            ]
          },
          "metadata": {
            "tags": []
          },
          "execution_count": 18
        }
      ]
    },
    {
      "cell_type": "markdown",
      "metadata": {
        "id": "mcH6JEG_OX2N"
      },
      "source": [
        "*All columns contain same number of missing values. It's necessary to query these rows.*"
      ]
    },
    {
      "cell_type": "code",
      "metadata": {
        "colab": {
          "base_uri": "https://localhost:8080/",
          "height": 595
        },
        "id": "BiBWVbHCj_tg",
        "outputId": "a973d294-2a0c-46e9-a991-48e835122888"
      },
      "source": [
        "# querying missing values using the missingno lib\n",
        "import missingno as msno\n",
        "%matplotlib inline\n",
        "msno.matrix(df, figsize=(12,8));\n"
      ],
      "execution_count": 20,
      "outputs": [
        {
          "output_type": "display_data",
          "data": {
            "image/png": "[encoded data removed]",
            "text/plain": [
              "<Figure size 864x576 with 2 Axes>"
            ]
          },
          "metadata": {
            "tags": [],
            "needs_background": "light"
          }
        }
      ]
    },
    {
      "cell_type": "markdown",
      "metadata": {
        "id": "bE9SyOxCMhJH"
      },
      "source": [
        "The matrix plot shows that all columns have missing values in common rows"
      ]
    },
    {
      "cell_type": "code",
      "metadata": {
        "colab": {
          "base_uri": "https://localhost:8080/",
          "height": 424
        },
        "id": "OpVX9e2NWRy0",
        "outputId": "f24632ec-941a-463d-ddca-c433d40893f6"
      },
      "source": [
        "msno.heatmap(df, figsize=(10,5));"
      ],
      "execution_count": 21,
      "outputs": [
        {
          "output_type": "display_data",
          "data": {
            "image/png": "[encoded data removed]",
            "text/plain": [
              "<Figure size 720x360 with 2 Axes>"
            ]
          },
          "metadata": {
            "tags": [],
            "needs_background": "light"
          }
        }
      ]
    },
    {
      "cell_type": "markdown",
      "metadata": {
        "id": "gdXRqTdXWfCh"
      },
      "source": [
        "*The heatmap of missing values further confirms that all columns have missing values in same rows. It is therefore safo to drop all such rows*"
      ]
    },
    {
      "cell_type": "code",
      "metadata": {
        "id": "DVTXyZRlOTHO"
      },
      "source": [
        "# querying the rows of missing values\n",
        "missing = df[df.isnull().any(axis=1)]"
      ],
      "execution_count": 22,
      "outputs": []
    },
    {
      "cell_type": "code",
      "metadata": {
        "colab": {
          "base_uri": "https://localhost:8080/",
          "height": 419
        },
        "id": "B-PCrDBfPBPZ",
        "outputId": "0ec46b3b-3ec0-4806-b249-edbfb59d426f"
      },
      "source": [
        "missing"
      ],
      "execution_count": 23,
      "outputs": [
        {
          "output_type": "execute_result",
          "data": {
            "text/html": [
              "<div>\n",
              "<style scoped>\n",
              "    .dataframe tbody tr th:only-of-type {\n",
              "        vertical-align: middle;\n",
              "    }\n",
              "\n",
              "    .dataframe tbody tr th {\n",
              "        vertical-align: top;\n",
              "    }\n",
              "\n",
              "    .dataframe thead th {\n",
              "        text-align: right;\n",
              "    }\n",
              "</style>\n",
              "<table border=\"1\" class=\"dataframe\">\n",
              "  <thead>\n",
              "    <tr style=\"text-align: right;\">\n",
              "      <th></th>\n",
              "      <th>order_id</th>\n",
              "      <th>product_name</th>\n",
              "      <th>quantity_ordered</th>\n",
              "      <th>price_each</th>\n",
              "      <th>order_date</th>\n",
              "      <th>purchase_address</th>\n",
              "    </tr>\n",
              "  </thead>\n",
              "  <tbody>\n",
              "    <tr>\n",
              "      <th>264</th>\n",
              "      <td>NaN</td>\n",
              "      <td>NaN</td>\n",
              "      <td>NaN</td>\n",
              "      <td>NaN</td>\n",
              "      <td>NaN</td>\n",
              "      <td>NaN</td>\n",
              "    </tr>\n",
              "    <tr>\n",
              "      <th>648</th>\n",
              "      <td>NaN</td>\n",
              "      <td>NaN</td>\n",
              "      <td>NaN</td>\n",
              "      <td>NaN</td>\n",
              "      <td>NaN</td>\n",
              "      <td>NaN</td>\n",
              "    </tr>\n",
              "    <tr>\n",
              "      <th>680</th>\n",
              "      <td>NaN</td>\n",
              "      <td>NaN</td>\n",
              "      <td>NaN</td>\n",
              "      <td>NaN</td>\n",
              "      <td>NaN</td>\n",
              "      <td>NaN</td>\n",
              "    </tr>\n",
              "    <tr>\n",
              "      <th>1385</th>\n",
              "      <td>NaN</td>\n",
              "      <td>NaN</td>\n",
              "      <td>NaN</td>\n",
              "      <td>NaN</td>\n",
              "      <td>NaN</td>\n",
              "      <td>NaN</td>\n",
              "    </tr>\n",
              "    <tr>\n",
              "      <th>1495</th>\n",
              "      <td>NaN</td>\n",
              "      <td>NaN</td>\n",
              "      <td>NaN</td>\n",
              "      <td>NaN</td>\n",
              "      <td>NaN</td>\n",
              "      <td>NaN</td>\n",
              "    </tr>\n",
              "    <tr>\n",
              "      <th>...</th>\n",
              "      <td>...</td>\n",
              "      <td>...</td>\n",
              "      <td>...</td>\n",
              "      <td>...</td>\n",
              "      <td>...</td>\n",
              "      <td>...</td>\n",
              "    </tr>\n",
              "    <tr>\n",
              "      <th>8596</th>\n",
              "      <td>NaN</td>\n",
              "      <td>NaN</td>\n",
              "      <td>NaN</td>\n",
              "      <td>NaN</td>\n",
              "      <td>NaN</td>\n",
              "      <td>NaN</td>\n",
              "    </tr>\n",
              "    <tr>\n",
              "      <th>8623</th>\n",
              "      <td>NaN</td>\n",
              "      <td>NaN</td>\n",
              "      <td>NaN</td>\n",
              "      <td>NaN</td>\n",
              "      <td>NaN</td>\n",
              "      <td>NaN</td>\n",
              "    </tr>\n",
              "    <tr>\n",
              "      <th>9144</th>\n",
              "      <td>NaN</td>\n",
              "      <td>NaN</td>\n",
              "      <td>NaN</td>\n",
              "      <td>NaN</td>\n",
              "      <td>NaN</td>\n",
              "      <td>NaN</td>\n",
              "    </tr>\n",
              "    <tr>\n",
              "      <th>9631</th>\n",
              "      <td>NaN</td>\n",
              "      <td>NaN</td>\n",
              "      <td>NaN</td>\n",
              "      <td>NaN</td>\n",
              "      <td>NaN</td>\n",
              "      <td>NaN</td>\n",
              "    </tr>\n",
              "    <tr>\n",
              "      <th>9664</th>\n",
              "      <td>NaN</td>\n",
              "      <td>NaN</td>\n",
              "      <td>NaN</td>\n",
              "      <td>NaN</td>\n",
              "      <td>NaN</td>\n",
              "      <td>NaN</td>\n",
              "    </tr>\n",
              "  </tbody>\n",
              "</table>\n",
              "<p>545 rows × 6 columns</p>\n",
              "</div>"
            ],
            "text/plain": [
              "     order_id product_name  ... order_date purchase_address\n",
              "264       NaN          NaN  ...        NaN              NaN\n",
              "648       NaN          NaN  ...        NaN              NaN\n",
              "680       NaN          NaN  ...        NaN              NaN\n",
              "1385      NaN          NaN  ...        NaN              NaN\n",
              "1495      NaN          NaN  ...        NaN              NaN\n",
              "...       ...          ...  ...        ...              ...\n",
              "8596      NaN          NaN  ...        NaN              NaN\n",
              "8623      NaN          NaN  ...        NaN              NaN\n",
              "9144      NaN          NaN  ...        NaN              NaN\n",
              "9631      NaN          NaN  ...        NaN              NaN\n",
              "9664      NaN          NaN  ...        NaN              NaN\n",
              "\n",
              "[545 rows x 6 columns]"
            ]
          },
          "metadata": {
            "tags": []
          },
          "execution_count": 23
        }
      ]
    },
    {
      "cell_type": "code",
      "metadata": {
        "id": "5N7hMCKHX4kS"
      },
      "source": [
        "# dropping missing values\n",
        "df.dropna(how='any', inplace=True)"
      ],
      "execution_count": 24,
      "outputs": []
    },
    {
      "cell_type": "code",
      "metadata": {
        "colab": {
          "base_uri": "https://localhost:8080/"
        },
        "id": "M8eIdHObYEW0",
        "outputId": "75433063-49ab-4554-c130-bf70ec6b8adb"
      },
      "source": [
        "# checking if all missing values have been removed\n",
        "df.isna().any()"
      ],
      "execution_count": 25,
      "outputs": [
        {
          "output_type": "execute_result",
          "data": {
            "text/plain": [
              "order_id            False\n",
              "product_name        False\n",
              "quantity_ordered    False\n",
              "price_each          False\n",
              "order_date          False\n",
              "purchase_address    False\n",
              "dtype: bool"
            ]
          },
          "metadata": {
            "tags": []
          },
          "execution_count": 25
        }
      ]
    },
    {
      "cell_type": "code",
      "metadata": {
        "colab": {
          "base_uri": "https://localhost:8080/"
        },
        "id": "sWmKZc81Ydv6",
        "outputId": "d846f0ee-687a-4d8d-ce50-2c271c3d71b1"
      },
      "source": [
        "# checking for duplicated values\n",
        "df.duplicated().sum()"
      ],
      "execution_count": 27,
      "outputs": [
        {
          "output_type": "execute_result",
          "data": {
            "text/plain": [
              "618"
            ]
          },
          "metadata": {
            "tags": []
          },
          "execution_count": 27
        }
      ]
    },
    {
      "cell_type": "markdown",
      "metadata": {
        "id": "5oZx80DGcVzO"
      },
      "source": [
        "*there are 618 duplicated values in the data. It's necessary to check where these duplicates occur*"
      ]
    },
    {
      "cell_type": "code",
      "metadata": {
        "colab": {
          "base_uri": "https://localhost:8080/",
          "height": 419
        },
        "id": "XSd806RwadBz",
        "outputId": "44745771-7f28-4019-e2b0-29cd628838d4"
      },
      "source": [
        "# checking for rows of duplicated values\n",
        "df.loc[df.duplicated(), :]"
      ],
      "execution_count": 28,
      "outputs": [
        {
          "output_type": "execute_result",
          "data": {
            "text/html": [
              "<div>\n",
              "<style scoped>\n",
              "    .dataframe tbody tr th:only-of-type {\n",
              "        vertical-align: middle;\n",
              "    }\n",
              "\n",
              "    .dataframe tbody tr th {\n",
              "        vertical-align: top;\n",
              "    }\n",
              "\n",
              "    .dataframe thead th {\n",
              "        text-align: right;\n",
              "    }\n",
              "</style>\n",
              "<table border=\"1\" class=\"dataframe\">\n",
              "  <thead>\n",
              "    <tr style=\"text-align: right;\">\n",
              "      <th></th>\n",
              "      <th>order_id</th>\n",
              "      <th>product_name</th>\n",
              "      <th>quantity_ordered</th>\n",
              "      <th>price_each</th>\n",
              "      <th>order_date</th>\n",
              "      <th>purchase_address</th>\n",
              "    </tr>\n",
              "  </thead>\n",
              "  <tbody>\n",
              "    <tr>\n",
              "      <th>440</th>\n",
              "      <td>296081</td>\n",
              "      <td>Flatscreen TV</td>\n",
              "      <td>1</td>\n",
              "      <td>300</td>\n",
              "      <td>12/30/19 16:52</td>\n",
              "      <td>970 Sunset St, Austin, TX 73301</td>\n",
              "    </tr>\n",
              "    <tr>\n",
              "      <th>705</th>\n",
              "      <td>Order ID</td>\n",
              "      <td>Product</td>\n",
              "      <td>Quantity Ordered</td>\n",
              "      <td>Price Each</td>\n",
              "      <td>Order Date</td>\n",
              "      <td>Purchase Address</td>\n",
              "    </tr>\n",
              "    <tr>\n",
              "      <th>1101</th>\n",
              "      <td>Order ID</td>\n",
              "      <td>Product</td>\n",
              "      <td>Quantity Ordered</td>\n",
              "      <td>Price Each</td>\n",
              "      <td>Order Date</td>\n",
              "      <td>Purchase Address</td>\n",
              "    </tr>\n",
              "    <tr>\n",
              "      <th>1735</th>\n",
              "      <td>297311</td>\n",
              "      <td>Bose SoundSport Headphones</td>\n",
              "      <td>1</td>\n",
              "      <td>99.99</td>\n",
              "      <td>12/07/19 07:30</td>\n",
              "      <td>858 Willow St, Los Angeles, CA 90001</td>\n",
              "    </tr>\n",
              "    <tr>\n",
              "      <th>2822</th>\n",
              "      <td>298358</td>\n",
              "      <td>Apple Airpods Headphones</td>\n",
              "      <td>1</td>\n",
              "      <td>150</td>\n",
              "      <td>12/04/19 15:57</td>\n",
              "      <td>482 8th St, San Francisco, CA 94016</td>\n",
              "    </tr>\n",
              "    <tr>\n",
              "      <th>...</th>\n",
              "      <td>...</td>\n",
              "      <td>...</td>\n",
              "      <td>...</td>\n",
              "      <td>...</td>\n",
              "      <td>...</td>\n",
              "      <td>...</td>\n",
              "    </tr>\n",
              "    <tr>\n",
              "      <th>8470</th>\n",
              "      <td>149308</td>\n",
              "      <td>Apple Airpods Headphones</td>\n",
              "      <td>1</td>\n",
              "      <td>150</td>\n",
              "      <td>01/02/19 23:07</td>\n",
              "      <td>351 Madison St, New York City, NY 10001</td>\n",
              "    </tr>\n",
              "    <tr>\n",
              "      <th>8690</th>\n",
              "      <td>149515</td>\n",
              "      <td>USB-C Charging Cable</td>\n",
              "      <td>1</td>\n",
              "      <td>11.95</td>\n",
              "      <td>01/14/19 21:19</td>\n",
              "      <td>913 10th St, Los Angeles, CA 90001</td>\n",
              "    </tr>\n",
              "    <tr>\n",
              "      <th>8923</th>\n",
              "      <td>149738</td>\n",
              "      <td>USB-C Charging Cable</td>\n",
              "      <td>1</td>\n",
              "      <td>11.95</td>\n",
              "      <td>01/11/19 11:22</td>\n",
              "      <td>612 West St, New York City, NY 10001</td>\n",
              "    </tr>\n",
              "    <tr>\n",
              "      <th>9311</th>\n",
              "      <td>Order ID</td>\n",
              "      <td>Product</td>\n",
              "      <td>Quantity Ordered</td>\n",
              "      <td>Price Each</td>\n",
              "      <td>Order Date</td>\n",
              "      <td>Purchase Address</td>\n",
              "    </tr>\n",
              "    <tr>\n",
              "      <th>9427</th>\n",
              "      <td>150216</td>\n",
              "      <td>Wired Headphones</td>\n",
              "      <td>1</td>\n",
              "      <td>11.99</td>\n",
              "      <td>01/21/19 09:20</td>\n",
              "      <td>691 Pine St, San Francisco, CA 94016</td>\n",
              "    </tr>\n",
              "  </tbody>\n",
              "</table>\n",
              "<p>618 rows × 6 columns</p>\n",
              "</div>"
            ],
            "text/plain": [
              "      order_id  ...                         purchase_address\n",
              "440     296081  ...          970 Sunset St, Austin, TX 73301\n",
              "705   Order ID  ...                         Purchase Address\n",
              "1101  Order ID  ...                         Purchase Address\n",
              "1735    297311  ...     858 Willow St, Los Angeles, CA 90001\n",
              "2822    298358  ...      482 8th St, San Francisco, CA 94016\n",
              "...        ...  ...                                      ...\n",
              "8470    149308  ...  351 Madison St, New York City, NY 10001\n",
              "8690    149515  ...       913 10th St, Los Angeles, CA 90001\n",
              "8923    149738  ...     612 West St, New York City, NY 10001\n",
              "9311  Order ID  ...                         Purchase Address\n",
              "9427    150216  ...     691 Pine St, San Francisco, CA 94016\n",
              "\n",
              "[618 rows x 6 columns]"
            ]
          },
          "metadata": {
            "tags": []
          },
          "execution_count": 28
        }
      ]
    },
    {
      "cell_type": "code",
      "metadata": {
        "id": "Nzl0s8EeNTN4"
      },
      "source": [
        "# dropping duplicates\n",
        "df.drop_duplicates(inplace=True)"
      ],
      "execution_count": 31,
      "outputs": []
    },
    {
      "cell_type": "code",
      "metadata": {
        "colab": {
          "base_uri": "https://localhost:8080/"
        },
        "id": "3sz1_52-NgPn",
        "outputId": "aaebd095-93a3-4219-8cd8-c95f21c3f656"
      },
      "source": [
        "df.duplicated().any()"
      ],
      "execution_count": 33,
      "outputs": [
        {
          "output_type": "execute_result",
          "data": {
            "text/plain": [
              "False"
            ]
          },
          "metadata": {
            "tags": []
          },
          "execution_count": 33
        }
      ]
    },
    {
      "cell_type": "code",
      "metadata": {
        "colab": {
          "base_uri": "https://localhost:8080/"
        },
        "id": "GTgg4udDiu4P",
        "outputId": "ac919726-f068-45f4-f72e-8254edb1dc07"
      },
      "source": [
        "# checking dtype\n",
        "df.dtypes"
      ],
      "execution_count": 34,
      "outputs": [
        {
          "output_type": "execute_result",
          "data": {
            "text/plain": [
              "order_id            object\n",
              "product_name        object\n",
              "quantity_ordered    object\n",
              "price_each          object\n",
              "order_date          object\n",
              "purchase_address    object\n",
              "dtype: object"
            ]
          },
          "metadata": {
            "tags": []
          },
          "execution_count": 34
        }
      ]
    },
    {
      "cell_type": "markdown",
      "metadata": {
        "id": "qTB9yrKbleIk"
      },
      "source": [
        "#### TODOS:\n",
        "  - query quantity_ordered and price_each to know why they are typed as 'object'\n",
        "  - convert both to int64 and float64 dtypes respectively\n",
        "  - explore and convert order_date to datetime64 \n",
        "  "
      ]
    },
    {
      "cell_type": "code",
      "metadata": {
        "colab": {
          "base_uri": "https://localhost:8080/"
        },
        "id": "8sHazbmBlClr",
        "outputId": "6e4312e7-331b-4099-cffa-24e95cd3bb9a"
      },
      "source": [
        "# checking quantity_ordered\n",
        "df.quantity_ordered.unique() "
      ],
      "execution_count": 35,
      "outputs": [
        {
          "output_type": "execute_result",
          "data": {
            "text/plain": [
              "array(['1', '2', '4', '3', 'Quantity Ordered', '7', '5', '6', '8', '9'],\n",
              "      dtype=object)"
            ]
          },
          "metadata": {
            "tags": []
          },
          "execution_count": 35
        }
      ]
    },
    {
      "cell_type": "code",
      "metadata": {
        "colab": {
          "base_uri": "https://localhost:8080/",
          "height": 80
        },
        "id": "xdcWKL6yN7kQ",
        "outputId": "4a865748-5dcc-4cc0-890f-49583f818067"
      },
      "source": [
        "# checking for where the value of quantity ordered is 'Quantity Ordered'\n",
        "df.query(\"quantity_ordered == 'Quantity Ordered'\")"
      ],
      "execution_count": 36,
      "outputs": [
        {
          "output_type": "execute_result",
          "data": {
            "text/html": [
              "<div>\n",
              "<style scoped>\n",
              "    .dataframe tbody tr th:only-of-type {\n",
              "        vertical-align: middle;\n",
              "    }\n",
              "\n",
              "    .dataframe tbody tr th {\n",
              "        vertical-align: top;\n",
              "    }\n",
              "\n",
              "    .dataframe thead th {\n",
              "        text-align: right;\n",
              "    }\n",
              "</style>\n",
              "<table border=\"1\" class=\"dataframe\">\n",
              "  <thead>\n",
              "    <tr style=\"text-align: right;\">\n",
              "      <th></th>\n",
              "      <th>order_id</th>\n",
              "      <th>product_name</th>\n",
              "      <th>quantity_ordered</th>\n",
              "      <th>price_each</th>\n",
              "      <th>order_date</th>\n",
              "      <th>purchase_address</th>\n",
              "    </tr>\n",
              "  </thead>\n",
              "  <tbody>\n",
              "    <tr>\n",
              "      <th>254</th>\n",
              "      <td>Order ID</td>\n",
              "      <td>Product</td>\n",
              "      <td>Quantity Ordered</td>\n",
              "      <td>Price Each</td>\n",
              "      <td>Order Date</td>\n",
              "      <td>Purchase Address</td>\n",
              "    </tr>\n",
              "  </tbody>\n",
              "</table>\n",
              "</div>"
            ],
            "text/plain": [
              "     order_id product_name  ...  order_date  purchase_address\n",
              "254  Order ID      Product  ...  Order Date  Purchase Address\n",
              "\n",
              "[1 rows x 6 columns]"
            ]
          },
          "metadata": {
            "tags": []
          },
          "execution_count": 36
        }
      ]
    },
    {
      "cell_type": "code",
      "metadata": {
        "id": "4_B4d1J8Oxdi"
      },
      "source": [
        "# dropping the invalid row\n",
        "df.drop(index=254, axis=0, inplace=True)"
      ],
      "execution_count": 39,
      "outputs": []
    },
    {
      "cell_type": "code",
      "metadata": {
        "colab": {
          "base_uri": "https://localhost:8080/",
          "height": 49
        },
        "id": "fhvMxjdXPn1V",
        "outputId": "8e674061-2caf-4013-ff06-1cb7ba24be8f"
      },
      "source": [
        "df.query(\"quantity_ordered == 'Quantity Ordered'\")"
      ],
      "execution_count": 40,
      "outputs": [
        {
          "output_type": "execute_result",
          "data": {
            "text/html": [
              "<div>\n",
              "<style scoped>\n",
              "    .dataframe tbody tr th:only-of-type {\n",
              "        vertical-align: middle;\n",
              "    }\n",
              "\n",
              "    .dataframe tbody tr th {\n",
              "        vertical-align: top;\n",
              "    }\n",
              "\n",
              "    .dataframe thead th {\n",
              "        text-align: right;\n",
              "    }\n",
              "</style>\n",
              "<table border=\"1\" class=\"dataframe\">\n",
              "  <thead>\n",
              "    <tr style=\"text-align: right;\">\n",
              "      <th></th>\n",
              "      <th>order_id</th>\n",
              "      <th>product_name</th>\n",
              "      <th>quantity_ordered</th>\n",
              "      <th>price_each</th>\n",
              "      <th>order_date</th>\n",
              "      <th>purchase_address</th>\n",
              "    </tr>\n",
              "  </thead>\n",
              "  <tbody>\n",
              "  </tbody>\n",
              "</table>\n",
              "</div>"
            ],
            "text/plain": [
              "Empty DataFrame\n",
              "Columns: [order_id, product_name, quantity_ordered, price_each, order_date, purchase_address]\n",
              "Index: []"
            ]
          },
          "metadata": {
            "tags": []
          },
          "execution_count": 40
        }
      ]
    },
    {
      "cell_type": "code",
      "metadata": {
        "id": "pQOEao3ZmZZf"
      },
      "source": [
        "# converting quantity_ordered to int64\n",
        "df.quantity_ordered = df.quantity_ordered.astype('int64')"
      ],
      "execution_count": 41,
      "outputs": []
    },
    {
      "cell_type": "code",
      "metadata": {
        "colab": {
          "base_uri": "https://localhost:8080/"
        },
        "id": "rbsTkViUmuQ_",
        "outputId": "e4aceb28-213d-4cf9-c83e-8b68d15114d5"
      },
      "source": [
        "df.quantity_ordered.dtype"
      ],
      "execution_count": 42,
      "outputs": [
        {
          "output_type": "execute_result",
          "data": {
            "text/plain": [
              "dtype('int64')"
            ]
          },
          "metadata": {
            "tags": []
          },
          "execution_count": 42
        }
      ]
    },
    {
      "cell_type": "code",
      "metadata": {
        "colab": {
          "base_uri": "https://localhost:8080/"
        },
        "id": "7hSdpYdjm1kS",
        "outputId": "4faa1af9-0c23-4b42-d3eb-5999b8b240f9"
      },
      "source": [
        "# checking price_each\n",
        "df.price_each.unique()"
      ],
      "execution_count": 43,
      "outputs": [
        {
          "output_type": "execute_result",
          "data": {
            "text/plain": [
              "array(['1700', '600.0', '11.95', '149.99', '3.84', '99.99', '2.99',\n",
              "       '999.99', '14.95', '600', '11.99', '150', '400', '700', '109.99',\n",
              "       '379.99', '300', '389.99', '150.0', '700.0', '400.0', '300.0',\n",
              "       '1700.0'], dtype=object)"
            ]
          },
          "metadata": {
            "tags": []
          },
          "execution_count": 43
        }
      ]
    },
    {
      "cell_type": "code",
      "metadata": {
        "id": "hQkiJOkZnVzQ"
      },
      "source": [
        "# change dtype to float64\n",
        "df.price_each = df.price_each.astype('float64')"
      ],
      "execution_count": 44,
      "outputs": []
    },
    {
      "cell_type": "code",
      "metadata": {
        "colab": {
          "base_uri": "https://localhost:8080/"
        },
        "id": "YsNPO74BngVy",
        "outputId": "7607e9f4-f3a1-45c6-9180-b22779965230"
      },
      "source": [
        "df.price_each.dtype"
      ],
      "execution_count": 45,
      "outputs": [
        {
          "output_type": "execute_result",
          "data": {
            "text/plain": [
              "dtype('float64')"
            ]
          },
          "metadata": {
            "tags": []
          },
          "execution_count": 45
        }
      ]
    },
    {
      "cell_type": "code",
      "metadata": {
        "id": "D6oy9a3YnmJm"
      },
      "source": [
        "# rename price_each\n",
        "df.rename(columns = {'price_each':'unit_price'}, inplace=True)"
      ],
      "execution_count": 46,
      "outputs": []
    },
    {
      "cell_type": "code",
      "metadata": {
        "colab": {
          "base_uri": "https://localhost:8080/"
        },
        "id": "hbxBVO9noVgB",
        "outputId": "fb2f5dbc-61ba-47f0-8ad5-6b19eb4a0248"
      },
      "source": [
        "df.columns"
      ],
      "execution_count": 47,
      "outputs": [
        {
          "output_type": "execute_result",
          "data": {
            "text/plain": [
              "Index(['order_id', 'product_name', 'quantity_ordered', 'unit_price',\n",
              "       'order_date', 'purchase_address'],\n",
              "      dtype='object')"
            ]
          },
          "metadata": {
            "tags": []
          },
          "execution_count": 47
        }
      ]
    },
    {
      "cell_type": "code",
      "metadata": {
        "id": "2BLJLdpJpOs-"
      },
      "source": [
        "# converting order_date to datetime\n",
        "df.order_date = pd.to_datetime(df['order_date'], format='%m/%d/%y %H:%M', dayfirst=True)"
      ],
      "execution_count": 49,
      "outputs": []
    },
    {
      "cell_type": "code",
      "metadata": {
        "colab": {
          "base_uri": "https://localhost:8080/"
        },
        "id": "vVO-p17vqRLN",
        "outputId": "3f260b12-8c10-4892-aa5b-efd8e04a808f"
      },
      "source": [
        "df.order_date.dtype"
      ],
      "execution_count": 50,
      "outputs": [
        {
          "output_type": "execute_result",
          "data": {
            "text/plain": [
              "dtype('<M8[ns]')"
            ]
          },
          "metadata": {
            "tags": []
          },
          "execution_count": 50
        }
      ]
    },
    {
      "cell_type": "code",
      "metadata": {
        "id": "rYayh8tKqeMg"
      },
      "source": [
        "# renaming order_date to date\n",
        "df.rename(columns={'order_date':'date'}, inplace=True)"
      ],
      "execution_count": 51,
      "outputs": []
    },
    {
      "cell_type": "code",
      "metadata": {
        "colab": {
          "base_uri": "https://localhost:8080/",
          "height": 142
        },
        "id": "H1DtBdlUu5Lw",
        "outputId": "f5490d20-6f45-4605-e911-7ac56b5804f6"
      },
      "source": [
        "# checking cleaned df\n",
        "df.head(3)"
      ],
      "execution_count": 52,
      "outputs": [
        {
          "output_type": "execute_result",
          "data": {
            "text/html": [
              "<div>\n",
              "<style scoped>\n",
              "    .dataframe tbody tr th:only-of-type {\n",
              "        vertical-align: middle;\n",
              "    }\n",
              "\n",
              "    .dataframe tbody tr th {\n",
              "        vertical-align: top;\n",
              "    }\n",
              "\n",
              "    .dataframe thead th {\n",
              "        text-align: right;\n",
              "    }\n",
              "</style>\n",
              "<table border=\"1\" class=\"dataframe\">\n",
              "  <thead>\n",
              "    <tr style=\"text-align: right;\">\n",
              "      <th></th>\n",
              "      <th>order_id</th>\n",
              "      <th>product_name</th>\n",
              "      <th>quantity_ordered</th>\n",
              "      <th>unit_price</th>\n",
              "      <th>date</th>\n",
              "      <th>purchase_address</th>\n",
              "    </tr>\n",
              "  </thead>\n",
              "  <tbody>\n",
              "    <tr>\n",
              "      <th>0</th>\n",
              "      <td>295665</td>\n",
              "      <td>Macbook Pro Laptop</td>\n",
              "      <td>1</td>\n",
              "      <td>1700.00</td>\n",
              "      <td>2019-12-30 00:01:00</td>\n",
              "      <td>136 Church St, New York City, NY 10001</td>\n",
              "    </tr>\n",
              "    <tr>\n",
              "      <th>1</th>\n",
              "      <td>295666</td>\n",
              "      <td>LG Washing Machine</td>\n",
              "      <td>1</td>\n",
              "      <td>600.00</td>\n",
              "      <td>2019-12-29 07:03:00</td>\n",
              "      <td>562 2nd St, New York City, NY 10001</td>\n",
              "    </tr>\n",
              "    <tr>\n",
              "      <th>2</th>\n",
              "      <td>295667</td>\n",
              "      <td>USB-C Charging Cable</td>\n",
              "      <td>1</td>\n",
              "      <td>11.95</td>\n",
              "      <td>2019-12-12 18:21:00</td>\n",
              "      <td>277 Main St, New York City, NY 10001</td>\n",
              "    </tr>\n",
              "  </tbody>\n",
              "</table>\n",
              "</div>"
            ],
            "text/plain": [
              "  order_id  ...                        purchase_address\n",
              "0   295665  ...  136 Church St, New York City, NY 10001\n",
              "1   295666  ...     562 2nd St, New York City, NY 10001\n",
              "2   295667  ...    277 Main St, New York City, NY 10001\n",
              "\n",
              "[3 rows x 6 columns]"
            ]
          },
          "metadata": {
            "tags": []
          },
          "execution_count": 52
        }
      ]
    },
    {
      "cell_type": "code",
      "metadata": {
        "colab": {
          "base_uri": "https://localhost:8080/"
        },
        "id": "0I0FwJaIQF_8",
        "outputId": "35e0ee42-4f3e-4ab1-f380-642a438fe33f"
      },
      "source": [
        "df.info()"
      ],
      "execution_count": 53,
      "outputs": [
        {
          "output_type": "stream",
          "text": [
            "<class 'pandas.core.frame.DataFrame'>\n",
            "Int64Index: 185675 entries, 0 to 9722\n",
            "Data columns (total 6 columns):\n",
            " #   Column            Non-Null Count   Dtype         \n",
            "---  ------            --------------   -----         \n",
            " 0   order_id          185675 non-null  object        \n",
            " 1   product_name      185675 non-null  object        \n",
            " 2   quantity_ordered  185675 non-null  int64         \n",
            " 3   unit_price        185675 non-null  float64       \n",
            " 4   date              185675 non-null  datetime64[ns]\n",
            " 5   purchase_address  185675 non-null  object        \n",
            "dtypes: datetime64[ns](1), float64(1), int64(1), object(3)\n",
            "memory usage: 9.9+ MB\n"
          ],
          "name": "stdout"
        }
      ]
    },
    {
      "cell_type": "code",
      "metadata": {
        "id": "1mmh3UeYQQM3"
      },
      "source": [
        "# saving a copy of cleaned df\n",
        "df.to_csv('cleaned_sales.csv', index=False)\n"
      ],
      "execution_count": 59,
      "outputs": []
    },
    {
      "cell_type": "markdown",
      "metadata": {
        "id": "qvggMrKYwzYG"
      },
      "source": [
        "### Some Feature Engineering:\n",
        "\n",
        "##### TODOS:-\n",
        "  - extract the months from the date column\n",
        "  - calculate the final price of each product\n",
        "  - extract state and post codes from address\n"
      ]
    },
    {
      "cell_type": "code",
      "metadata": {
        "id": "BH7REo8G5GK3"
      },
      "source": [
        "df.insert(5, 'month', df['date'].dt.month)"
      ],
      "execution_count": 83,
      "outputs": []
    },
    {
      "cell_type": "code",
      "metadata": {
        "colab": {
          "base_uri": "https://localhost:8080/",
          "height": 111
        },
        "id": "N26wAX3pcjUR",
        "outputId": "af0a58eb-5b39-445a-f434-6828222a9eef"
      },
      "source": [
        "df.head(2)"
      ],
      "execution_count": 84,
      "outputs": [
        {
          "output_type": "execute_result",
          "data": {
            "text/html": [
              "<div>\n",
              "<style scoped>\n",
              "    .dataframe tbody tr th:only-of-type {\n",
              "        vertical-align: middle;\n",
              "    }\n",
              "\n",
              "    .dataframe tbody tr th {\n",
              "        vertical-align: top;\n",
              "    }\n",
              "\n",
              "    .dataframe thead th {\n",
              "        text-align: right;\n",
              "    }\n",
              "</style>\n",
              "<table border=\"1\" class=\"dataframe\">\n",
              "  <thead>\n",
              "    <tr style=\"text-align: right;\">\n",
              "      <th></th>\n",
              "      <th>order_id</th>\n",
              "      <th>product_name</th>\n",
              "      <th>quantity_ordered</th>\n",
              "      <th>unit_price</th>\n",
              "      <th>date</th>\n",
              "      <th>month</th>\n",
              "      <th>dow</th>\n",
              "      <th>total_price</th>\n",
              "      <th>street</th>\n",
              "      <th>state</th>\n",
              "      <th>postal_code</th>\n",
              "    </tr>\n",
              "  </thead>\n",
              "  <tbody>\n",
              "    <tr>\n",
              "      <th>0</th>\n",
              "      <td>295665</td>\n",
              "      <td>Macbook Pro Laptop</td>\n",
              "      <td>1</td>\n",
              "      <td>1700.0</td>\n",
              "      <td>2019-12-30 00:01:00</td>\n",
              "      <td>12</td>\n",
              "      <td>Monday</td>\n",
              "      <td>1700.0</td>\n",
              "      <td>136 Church St</td>\n",
              "      <td>New York City</td>\n",
              "      <td>NY 10001</td>\n",
              "    </tr>\n",
              "    <tr>\n",
              "      <th>1</th>\n",
              "      <td>295666</td>\n",
              "      <td>LG Washing Machine</td>\n",
              "      <td>1</td>\n",
              "      <td>600.0</td>\n",
              "      <td>2019-12-29 07:03:00</td>\n",
              "      <td>12</td>\n",
              "      <td>Sunday</td>\n",
              "      <td>600.0</td>\n",
              "      <td>562 2nd St</td>\n",
              "      <td>New York City</td>\n",
              "      <td>NY 10001</td>\n",
              "    </tr>\n",
              "  </tbody>\n",
              "</table>\n",
              "</div>"
            ],
            "text/plain": [
              "  order_id        product_name  ...           state  postal_code\n",
              "0   295665  Macbook Pro Laptop  ...   New York City     NY 10001\n",
              "1   295666  LG Washing Machine  ...   New York City     NY 10001\n",
              "\n",
              "[2 rows x 11 columns]"
            ]
          },
          "metadata": {
            "tags": []
          },
          "execution_count": 84
        }
      ]
    },
    {
      "cell_type": "code",
      "metadata": {
        "id": "ekygYTMf8bqX"
      },
      "source": [
        "# extracting day of week\n",
        "df.insert(6, 'dow', df['date'].dt.day_name())"
      ],
      "execution_count": 60,
      "outputs": []
    },
    {
      "cell_type": "code",
      "metadata": {
        "id": "KYFByzbV9KCj"
      },
      "source": [
        "# extracting the state, postal code, from purchase\n",
        "df[['street', 'state', 'postal_code']] =  df['purchase_address'].str.split(\",\", expand=True)"
      ],
      "execution_count": 61,
      "outputs": []
    },
    {
      "cell_type": "code",
      "metadata": {
        "colab": {
          "base_uri": "https://localhost:8080/",
          "height": 193
        },
        "id": "0M96SztN-_wH",
        "outputId": "b73483b9-e29a-4939-a637-a456dc330881"
      },
      "source": [
        "df.head(3)"
      ],
      "execution_count": 62,
      "outputs": [
        {
          "output_type": "execute_result",
          "data": {
            "text/html": [
              "<div>\n",
              "<style scoped>\n",
              "    .dataframe tbody tr th:only-of-type {\n",
              "        vertical-align: middle;\n",
              "    }\n",
              "\n",
              "    .dataframe tbody tr th {\n",
              "        vertical-align: top;\n",
              "    }\n",
              "\n",
              "    .dataframe thead th {\n",
              "        text-align: right;\n",
              "    }\n",
              "</style>\n",
              "<table border=\"1\" class=\"dataframe\">\n",
              "  <thead>\n",
              "    <tr style=\"text-align: right;\">\n",
              "      <th></th>\n",
              "      <th>order_id</th>\n",
              "      <th>product_name</th>\n",
              "      <th>quantity_ordered</th>\n",
              "      <th>unit_price</th>\n",
              "      <th>date</th>\n",
              "      <th>month</th>\n",
              "      <th>dow</th>\n",
              "      <th>purchase_address</th>\n",
              "      <th>street</th>\n",
              "      <th>state</th>\n",
              "      <th>postal_code</th>\n",
              "    </tr>\n",
              "  </thead>\n",
              "  <tbody>\n",
              "    <tr>\n",
              "      <th>0</th>\n",
              "      <td>295665</td>\n",
              "      <td>Macbook Pro Laptop</td>\n",
              "      <td>1</td>\n",
              "      <td>1700.00</td>\n",
              "      <td>2019-12-30 00:01:00</td>\n",
              "      <td>12</td>\n",
              "      <td>Monday</td>\n",
              "      <td>136 Church St, New York City, NY 10001</td>\n",
              "      <td>136 Church St</td>\n",
              "      <td>New York City</td>\n",
              "      <td>NY 10001</td>\n",
              "    </tr>\n",
              "    <tr>\n",
              "      <th>1</th>\n",
              "      <td>295666</td>\n",
              "      <td>LG Washing Machine</td>\n",
              "      <td>1</td>\n",
              "      <td>600.00</td>\n",
              "      <td>2019-12-29 07:03:00</td>\n",
              "      <td>12</td>\n",
              "      <td>Sunday</td>\n",
              "      <td>562 2nd St, New York City, NY 10001</td>\n",
              "      <td>562 2nd St</td>\n",
              "      <td>New York City</td>\n",
              "      <td>NY 10001</td>\n",
              "    </tr>\n",
              "    <tr>\n",
              "      <th>2</th>\n",
              "      <td>295667</td>\n",
              "      <td>USB-C Charging Cable</td>\n",
              "      <td>1</td>\n",
              "      <td>11.95</td>\n",
              "      <td>2019-12-12 18:21:00</td>\n",
              "      <td>12</td>\n",
              "      <td>Thursday</td>\n",
              "      <td>277 Main St, New York City, NY 10001</td>\n",
              "      <td>277 Main St</td>\n",
              "      <td>New York City</td>\n",
              "      <td>NY 10001</td>\n",
              "    </tr>\n",
              "  </tbody>\n",
              "</table>\n",
              "</div>"
            ],
            "text/plain": [
              "  order_id          product_name  ...           state  postal_code\n",
              "0   295665    Macbook Pro Laptop  ...   New York City     NY 10001\n",
              "1   295666    LG Washing Machine  ...   New York City     NY 10001\n",
              "2   295667  USB-C Charging Cable  ...   New York City     NY 10001\n",
              "\n",
              "[3 rows x 11 columns]"
            ]
          },
          "metadata": {
            "tags": []
          },
          "execution_count": 62
        }
      ]
    },
    {
      "cell_type": "code",
      "metadata": {
        "id": "TWBHWx0N_4nY"
      },
      "source": [
        "# the purchase_address column can be dropped\n",
        "df.drop('purchase_address', axis=1, inplace=True)"
      ],
      "execution_count": 63,
      "outputs": []
    },
    {
      "cell_type": "code",
      "metadata": {
        "id": "XnkSsfOcBGx0"
      },
      "source": [
        "# calculating total price \n",
        "total_price = df.quantity_ordered * df.unit_price"
      ],
      "execution_count": 64,
      "outputs": []
    },
    {
      "cell_type": "code",
      "metadata": {
        "id": "gPn2EeD_BsNo"
      },
      "source": [
        "# create total_price column\n",
        "df.insert(7, 'total_price', total_price)"
      ],
      "execution_count": 65,
      "outputs": []
    },
    {
      "cell_type": "code",
      "metadata": {
        "colab": {
          "base_uri": "https://localhost:8080/",
          "height": 111
        },
        "id": "78robVocCH6b",
        "outputId": "93dba91e-bad0-413a-8f06-986f4129596b"
      },
      "source": [
        "df.head(2)"
      ],
      "execution_count": 66,
      "outputs": [
        {
          "output_type": "execute_result",
          "data": {
            "text/html": [
              "<div>\n",
              "<style scoped>\n",
              "    .dataframe tbody tr th:only-of-type {\n",
              "        vertical-align: middle;\n",
              "    }\n",
              "\n",
              "    .dataframe tbody tr th {\n",
              "        vertical-align: top;\n",
              "    }\n",
              "\n",
              "    .dataframe thead th {\n",
              "        text-align: right;\n",
              "    }\n",
              "</style>\n",
              "<table border=\"1\" class=\"dataframe\">\n",
              "  <thead>\n",
              "    <tr style=\"text-align: right;\">\n",
              "      <th></th>\n",
              "      <th>order_id</th>\n",
              "      <th>product_name</th>\n",
              "      <th>quantity_ordered</th>\n",
              "      <th>unit_price</th>\n",
              "      <th>date</th>\n",
              "      <th>month</th>\n",
              "      <th>dow</th>\n",
              "      <th>total_price</th>\n",
              "      <th>street</th>\n",
              "      <th>state</th>\n",
              "      <th>postal_code</th>\n",
              "    </tr>\n",
              "  </thead>\n",
              "  <tbody>\n",
              "    <tr>\n",
              "      <th>0</th>\n",
              "      <td>295665</td>\n",
              "      <td>Macbook Pro Laptop</td>\n",
              "      <td>1</td>\n",
              "      <td>1700.0</td>\n",
              "      <td>2019-12-30 00:01:00</td>\n",
              "      <td>12</td>\n",
              "      <td>Monday</td>\n",
              "      <td>1700.0</td>\n",
              "      <td>136 Church St</td>\n",
              "      <td>New York City</td>\n",
              "      <td>NY 10001</td>\n",
              "    </tr>\n",
              "    <tr>\n",
              "      <th>1</th>\n",
              "      <td>295666</td>\n",
              "      <td>LG Washing Machine</td>\n",
              "      <td>1</td>\n",
              "      <td>600.0</td>\n",
              "      <td>2019-12-29 07:03:00</td>\n",
              "      <td>12</td>\n",
              "      <td>Sunday</td>\n",
              "      <td>600.0</td>\n",
              "      <td>562 2nd St</td>\n",
              "      <td>New York City</td>\n",
              "      <td>NY 10001</td>\n",
              "    </tr>\n",
              "  </tbody>\n",
              "</table>\n",
              "</div>"
            ],
            "text/plain": [
              "  order_id        product_name  ...           state  postal_code\n",
              "0   295665  Macbook Pro Laptop  ...   New York City     NY 10001\n",
              "1   295666  LG Washing Machine  ...   New York City     NY 10001\n",
              "\n",
              "[2 rows x 11 columns]"
            ]
          },
          "metadata": {
            "tags": []
          },
          "execution_count": 66
        }
      ]
    },
    {
      "cell_type": "code",
      "metadata": {
        "id": "_qtcgbwfc38m"
      },
      "source": [
        "df.month = df.month.map({1:'Jan', 2:'Feb', 3:'Mar', 4:'Apr', 5:'May', 6:'June', 7:'July', 8:'Aug', 9:'Sept', 10:'Oct', 11:'Nov', 12:'Dec'})"
      ],
      "execution_count": 85,
      "outputs": []
    },
    {
      "cell_type": "code",
      "metadata": {
        "colab": {
          "base_uri": "https://localhost:8080/"
        },
        "id": "rfgoya9zD_Zp",
        "outputId": "8341b4d7-8100-42ee-af55-c3d9b28d4730"
      },
      "source": [
        "#check the dtype of 'month'\n",
        "df.month.dtype"
      ],
      "execution_count": 68,
      "outputs": [
        {
          "output_type": "execute_result",
          "data": {
            "text/plain": [
              "dtype('O')"
            ]
          },
          "metadata": {
            "tags": []
          },
          "execution_count": 68
        }
      ]
    },
    {
      "cell_type": "code",
      "metadata": {
        "id": "BFOltSbxWoUd"
      },
      "source": [
        "# save final sales data\n",
        "df.to_csv('final_sales.csv', index=False)"
      ],
      "execution_count": 69,
      "outputs": []
    },
    {
      "cell_type": "markdown",
      "metadata": {
        "id": "EzIS1SZhDI-B"
      },
      "source": [
        "### Exploratory Data Analysis"
      ]
    },
    {
      "cell_type": "code",
      "metadata": {
        "colab": {
          "base_uri": "https://localhost:8080/",
          "height": 142
        },
        "id": "_HRlaKXhCblW",
        "outputId": "195fea08-061a-4448-b960-4ff34a297fd1"
      },
      "source": [
        "# checking summary statistics of numerical variables\n",
        "df.describe().T"
      ],
      "execution_count": 72,
      "outputs": [
        {
          "output_type": "execute_result",
          "data": {
            "text/html": [
              "<div>\n",
              "<style scoped>\n",
              "    .dataframe tbody tr th:only-of-type {\n",
              "        vertical-align: middle;\n",
              "    }\n",
              "\n",
              "    .dataframe tbody tr th {\n",
              "        vertical-align: top;\n",
              "    }\n",
              "\n",
              "    .dataframe thead th {\n",
              "        text-align: right;\n",
              "    }\n",
              "</style>\n",
              "<table border=\"1\" class=\"dataframe\">\n",
              "  <thead>\n",
              "    <tr style=\"text-align: right;\">\n",
              "      <th></th>\n",
              "      <th>count</th>\n",
              "      <th>mean</th>\n",
              "      <th>std</th>\n",
              "      <th>min</th>\n",
              "      <th>25%</th>\n",
              "      <th>50%</th>\n",
              "      <th>75%</th>\n",
              "      <th>max</th>\n",
              "    </tr>\n",
              "  </thead>\n",
              "  <tbody>\n",
              "    <tr>\n",
              "      <th>quantity_ordered</th>\n",
              "      <td>185675.0</td>\n",
              "      <td>1.12</td>\n",
              "      <td>0.44</td>\n",
              "      <td>1.00</td>\n",
              "      <td>1.00</td>\n",
              "      <td>1.00</td>\n",
              "      <td>1.0</td>\n",
              "      <td>9.0</td>\n",
              "    </tr>\n",
              "    <tr>\n",
              "      <th>unit_price</th>\n",
              "      <td>185675.0</td>\n",
              "      <td>184.52</td>\n",
              "      <td>332.85</td>\n",
              "      <td>2.99</td>\n",
              "      <td>11.95</td>\n",
              "      <td>14.95</td>\n",
              "      <td>150.0</td>\n",
              "      <td>1700.0</td>\n",
              "    </tr>\n",
              "    <tr>\n",
              "      <th>total_price</th>\n",
              "      <td>185675.0</td>\n",
              "      <td>185.62</td>\n",
              "      <td>333.04</td>\n",
              "      <td>2.99</td>\n",
              "      <td>11.95</td>\n",
              "      <td>14.95</td>\n",
              "      <td>150.0</td>\n",
              "      <td>3400.0</td>\n",
              "    </tr>\n",
              "  </tbody>\n",
              "</table>\n",
              "</div>"
            ],
            "text/plain": [
              "                     count    mean     std   min    25%    50%    75%     max\n",
              "quantity_ordered  185675.0    1.12    0.44  1.00   1.00   1.00    1.0     9.0\n",
              "unit_price        185675.0  184.52  332.85  2.99  11.95  14.95  150.0  1700.0\n",
              "total_price       185675.0  185.62  333.04  2.99  11.95  14.95  150.0  3400.0"
            ]
          },
          "metadata": {
            "tags": []
          },
          "execution_count": 72
        }
      ]
    },
    {
      "cell_type": "code",
      "metadata": {
        "colab": {
          "base_uri": "https://localhost:8080/",
          "height": 266
        },
        "id": "7-zJOY0BDthi",
        "outputId": "a2d7971e-ff9f-4383-ad24-9837bd0f59ca"
      },
      "source": [
        "df.describe(include=['object', 'category']).T"
      ],
      "execution_count": 73,
      "outputs": [
        {
          "output_type": "execute_result",
          "data": {
            "text/html": [
              "<div>\n",
              "<style scoped>\n",
              "    .dataframe tbody tr th:only-of-type {\n",
              "        vertical-align: middle;\n",
              "    }\n",
              "\n",
              "    .dataframe tbody tr th {\n",
              "        vertical-align: top;\n",
              "    }\n",
              "\n",
              "    .dataframe thead th {\n",
              "        text-align: right;\n",
              "    }\n",
              "</style>\n",
              "<table border=\"1\" class=\"dataframe\">\n",
              "  <thead>\n",
              "    <tr style=\"text-align: right;\">\n",
              "      <th></th>\n",
              "      <th>count</th>\n",
              "      <th>unique</th>\n",
              "      <th>top</th>\n",
              "      <th>freq</th>\n",
              "    </tr>\n",
              "  </thead>\n",
              "  <tbody>\n",
              "    <tr>\n",
              "      <th>order_id</th>\n",
              "      <td>185675</td>\n",
              "      <td>178426</td>\n",
              "      <td>160873</td>\n",
              "      <td>5</td>\n",
              "    </tr>\n",
              "    <tr>\n",
              "      <th>product_name</th>\n",
              "      <td>185675</td>\n",
              "      <td>19</td>\n",
              "      <td>USB-C Charging Cable</td>\n",
              "      <td>21859</td>\n",
              "    </tr>\n",
              "    <tr>\n",
              "      <th>month</th>\n",
              "      <td>185675</td>\n",
              "      <td>12</td>\n",
              "      <td>Dec</td>\n",
              "      <td>24944</td>\n",
              "    </tr>\n",
              "    <tr>\n",
              "      <th>dow</th>\n",
              "      <td>185675</td>\n",
              "      <td>7</td>\n",
              "      <td>Tuesday</td>\n",
              "      <td>27137</td>\n",
              "    </tr>\n",
              "    <tr>\n",
              "      <th>street</th>\n",
              "      <td>185675</td>\n",
              "      <td>46837</td>\n",
              "      <td>986 7th St</td>\n",
              "      <td>14</td>\n",
              "    </tr>\n",
              "    <tr>\n",
              "      <th>state</th>\n",
              "      <td>185675</td>\n",
              "      <td>9</td>\n",
              "      <td>San Francisco</td>\n",
              "      <td>44659</td>\n",
              "    </tr>\n",
              "    <tr>\n",
              "      <th>postal_code</th>\n",
              "      <td>185675</td>\n",
              "      <td>10</td>\n",
              "      <td>CA 94016</td>\n",
              "      <td>44659</td>\n",
              "    </tr>\n",
              "  </tbody>\n",
              "</table>\n",
              "</div>"
            ],
            "text/plain": [
              "               count  unique                   top   freq\n",
              "order_id      185675  178426                160873      5\n",
              "product_name  185675      19  USB-C Charging Cable  21859\n",
              "month         185675      12                   Dec  24944\n",
              "dow           185675       7               Tuesday  27137\n",
              "street        185675   46837            986 7th St     14\n",
              "state         185675       9         San Francisco  44659\n",
              "postal_code   185675      10              CA 94016  44659"
            ]
          },
          "metadata": {
            "tags": []
          },
          "execution_count": 73
        }
      ]
    },
    {
      "cell_type": "code",
      "metadata": {
        "colab": {
          "base_uri": "https://localhost:8080/"
        },
        "id": "ywciw_WTHbun",
        "outputId": "c675448c-c4a7-456a-e145-5a3cb1018e5b"
      },
      "source": [
        "df.columns.to_list()"
      ],
      "execution_count": 74,
      "outputs": [
        {
          "output_type": "execute_result",
          "data": {
            "text/plain": [
              "['order_id',\n",
              " 'product_name',\n",
              " 'quantity_ordered',\n",
              " 'unit_price',\n",
              " 'date',\n",
              " 'month',\n",
              " 'dow',\n",
              " 'total_price',\n",
              " 'street',\n",
              " 'state',\n",
              " 'postal_code']"
            ]
          },
          "metadata": {
            "tags": []
          },
          "execution_count": 74
        }
      ]
    },
    {
      "cell_type": "markdown",
      "metadata": {
        "id": "0VwcjMPIV0b1"
      },
      "source": [
        "###### Sales Analysis:\n",
        "Questions:\n",
        "  - what is the total sales for the year?\n",
        "  - what is the total sales per month?\n",
        "  - how is the monthly sales trend?\n",
        "  "
      ]
    },
    {
      "cell_type": "code",
      "metadata": {
        "colab": {
          "base_uri": "https://localhost:8080/",
          "height": 408
        },
        "id": "IovCiAc0GEJj",
        "outputId": "86006d00-b54d-4946-953e-43866a2a063f"
      },
      "source": [
        "# ANALYSIS OF 'total_price'\n",
        "plt.figure(figsize=(12,6))\n",
        "plt.title('Price Distribution', size=18)\n",
        "sns.histplot(x='total_price', data=df, bins=10, binrange=(0,2000));"
      ],
      "execution_count": 75,
      "outputs": [
        {
          "output_type": "display_data",
          "data": {
            "image/png": "[encoded data removed]",
            "text/plain": [
              "<Figure size 864x432 with 1 Axes>"
            ]
          },
          "metadata": {
            "tags": [],
            "needs_background": "light"
          }
        }
      ]
    },
    {
      "cell_type": "markdown",
      "metadata": {
        "id": "7DLKu7sxXETZ"
      },
      "source": [
        "*Most orders were made at less than $250*"
      ]
    },
    {
      "cell_type": "code",
      "metadata": {
        "colab": {
          "base_uri": "https://localhost:8080/"
        },
        "id": "1Mr3XMgfIXi_",
        "outputId": "50ea1a0e-0ad6-47f4-b8a4-34e252cb723b"
      },
      "source": [
        "np.round(df.total_price.sum())"
      ],
      "execution_count": 76,
      "outputs": [
        {
          "output_type": "execute_result",
          "data": {
            "text/plain": [
              "34464532.0"
            ]
          },
          "metadata": {
            "tags": []
          },
          "execution_count": 76
        }
      ]
    },
    {
      "cell_type": "markdown",
      "metadata": {
        "id": "oK58fkNYNaS3"
      },
      "source": [
        "*The company made a total sales of $34,464,532 in the given year*"
      ]
    },
    {
      "cell_type": "markdown",
      "metadata": {
        "id": "hkP2ypnAX-kK"
      },
      "source": [
        "### QUESTION:\n",
        "In which month was the highest sales made?"
      ]
    },
    {
      "cell_type": "code",
      "metadata": {
        "id": "-V2nDUr9XV78"
      },
      "source": [
        "month_pivot = df.pivot_table(values='total_price', index='month', aggfunc='sum').sort_values(by='total_price', ascending=True)"
      ],
      "execution_count": 87,
      "outputs": []
    },
    {
      "cell_type": "code",
      "metadata": {
        "colab": {
          "base_uri": "https://localhost:8080/",
          "height": 452
        },
        "id": "s2afM4sCZxUY",
        "outputId": "baf454a9-e0c7-4b60-8598-87eedaf303f9"
      },
      "source": [
        "month_pivot"
      ],
      "execution_count": 88,
      "outputs": [
        {
          "output_type": "execute_result",
          "data": {
            "text/html": [
              "<div>\n",
              "<style scoped>\n",
              "    .dataframe tbody tr th:only-of-type {\n",
              "        vertical-align: middle;\n",
              "    }\n",
              "\n",
              "    .dataframe tbody tr th {\n",
              "        vertical-align: top;\n",
              "    }\n",
              "\n",
              "    .dataframe thead th {\n",
              "        text-align: right;\n",
              "    }\n",
              "</style>\n",
              "<table border=\"1\" class=\"dataframe\">\n",
              "  <thead>\n",
              "    <tr style=\"text-align: right;\">\n",
              "      <th></th>\n",
              "      <th>total_price</th>\n",
              "    </tr>\n",
              "    <tr>\n",
              "      <th>month</th>\n",
              "      <th></th>\n",
              "    </tr>\n",
              "  </thead>\n",
              "  <tbody>\n",
              "    <tr>\n",
              "      <th>Jan</th>\n",
              "      <td>1.82e+06</td>\n",
              "    </tr>\n",
              "    <tr>\n",
              "      <th>Sept</th>\n",
              "      <td>2.09e+06</td>\n",
              "    </tr>\n",
              "    <tr>\n",
              "      <th>Feb</th>\n",
              "      <td>2.20e+06</td>\n",
              "    </tr>\n",
              "    <tr>\n",
              "      <th>Aug</th>\n",
              "      <td>2.24e+06</td>\n",
              "    </tr>\n",
              "    <tr>\n",
              "      <th>June</th>\n",
              "      <td>2.58e+06</td>\n",
              "    </tr>\n",
              "    <tr>\n",
              "      <th>July</th>\n",
              "      <td>2.65e+06</td>\n",
              "    </tr>\n",
              "    <tr>\n",
              "      <th>Mar</th>\n",
              "      <td>2.80e+06</td>\n",
              "    </tr>\n",
              "    <tr>\n",
              "      <th>May</th>\n",
              "      <td>3.15e+06</td>\n",
              "    </tr>\n",
              "    <tr>\n",
              "      <th>Nov</th>\n",
              "      <td>3.20e+06</td>\n",
              "    </tr>\n",
              "    <tr>\n",
              "      <th>Apr</th>\n",
              "      <td>3.39e+06</td>\n",
              "    </tr>\n",
              "    <tr>\n",
              "      <th>Oct</th>\n",
              "      <td>3.73e+06</td>\n",
              "    </tr>\n",
              "    <tr>\n",
              "      <th>Dec</th>\n",
              "      <td>4.61e+06</td>\n",
              "    </tr>\n",
              "  </tbody>\n",
              "</table>\n",
              "</div>"
            ],
            "text/plain": [
              "       total_price\n",
              "month             \n",
              "Jan       1.82e+06\n",
              "Sept      2.09e+06\n",
              "Feb       2.20e+06\n",
              "Aug       2.24e+06\n",
              "June      2.58e+06\n",
              "July      2.65e+06\n",
              "Mar       2.80e+06\n",
              "May       3.15e+06\n",
              "Nov       3.20e+06\n",
              "Apr       3.39e+06\n",
              "Oct       3.73e+06\n",
              "Dec       4.61e+06"
            ]
          },
          "metadata": {
            "tags": []
          },
          "execution_count": 88
        }
      ]
    },
    {
      "cell_type": "code",
      "metadata": {
        "colab": {
          "base_uri": "https://localhost:8080/",
          "height": 392
        },
        "id": "sLTApqLQZzW0",
        "outputId": "9fc22a8e-d349-421b-aa54-d18827997f8f"
      },
      "source": [
        "\n",
        "avg_monthly_sales = np.round(df.total_price.sum()/12)\n",
        "sns.relplot(x = month_pivot.index, y='total_price', data=month_pivot, kind='line', height=5, aspect=2 )\n",
        "plt.axhline(avg_monthly_sales, ls='--', linewidth=2, color='blue', alpha=0.6, label='average monthly sales:',)\n",
        "plt.title('Sum of Total price by month with average monthly sales', size=14);"
      ],
      "execution_count": 130,
      "outputs": [
        {
          "output_type": "display_data",
          "data": {
            "image/png": "[encoded data removed]",
            "text/plain": [
              "<Figure size 720x360 with 1 Axes>"
            ]
          },
          "metadata": {
            "tags": [],
            "needs_background": "light"
          }
        }
      ]
    },
    {
      "cell_type": "markdown",
      "metadata": {
        "id": "avgsHtifgpBg"
      },
      "source": [
        "#### Observations:-\n",
        "  - sales was highest in December and lowest in january. \n",
        "  - the dotted blue line represents the average monthly sales of $2,872,044\n",
        "  - sales was above average in only 5 months - May, Nov, April, Oct, and December."
      ]
    },
    {
      "cell_type": "markdown",
      "metadata": {
        "id": "aLEG5uT2pdlH"
      },
      "source": [
        "##### Sales vs Day of Week"
      ]
    },
    {
      "cell_type": "code",
      "metadata": {
        "colab": {
          "base_uri": "https://localhost:8080/",
          "height": 404
        },
        "id": "Hda9wzz7njve",
        "outputId": "635006f9-6460-4c51-d84a-75123cc27536"
      },
      "source": [
        "palette =['#2A9D8F', '#5BBA6F', '#3FA34D', '#2A9134', '#137547', '#054A29','#054A27']\n",
        "order = ['Sunday','Monday','Tuesday','Wednesday','Thursday','Friday','Saturday']\n",
        "sns.catplot(x='dow',data=df, kind='count', height=5, aspect=2, palette= palette, order=order)\n",
        "plt.title('Count of orders by day of week', size=16)\n",
        "plt.xlabel('Weekday Name', fontsize=12)\n",
        "plt.ylabel('# of orders', fontsize=12);"
      ],
      "execution_count": 131,
      "outputs": [
        {
          "output_type": "display_data",
          "data": {
            "image/png": "[encoded data removed]",
            "text/plain": [
              "<Figure size 720x360 with 1 Axes>"
            ]
          },
          "metadata": {
            "tags": [],
            "needs_background": "light"
          }
        }
      ]
    },
    {
      "cell_type": "markdown",
      "metadata": {
        "id": "jZeqZga8q5qA"
      },
      "source": [
        "*There is a fairly equal distribution of the number of orders placed each day of the week.*"
      ]
    },
    {
      "cell_type": "code",
      "metadata": {
        "id": "c2hBhpFqqnOx"
      },
      "source": [
        "df_dow = df.groupby('dow', as_index=False)['total_price'].sum().sort_values(by='total_price', ascending=False)"
      ],
      "execution_count": 132,
      "outputs": []
    },
    {
      "cell_type": "code",
      "metadata": {
        "colab": {
          "base_uri": "https://localhost:8080/",
          "height": 393
        },
        "id": "swgU8_9buBQA",
        "outputId": "9719d90d-1a32-496d-e9f6-e6ed8e0be1c5"
      },
      "source": [
        "sns.catplot(x='dow', y='total_price', data=df_dow, kind='bar', palette=palette, height=5, aspect=2)\n",
        "plt.title('Sum of sales by day of week', size=16)\n",
        "plt.xlabel('Weekday Name', fontsize=12)\n",
        "plt.ylabel('Total Sales', fontsize=12);"
      ],
      "execution_count": 133,
      "outputs": [
        {
          "output_type": "display_data",
          "data": {
            "image/png": "[encoded data removed]",
            "text/plain": [
              "<Figure size 720x360 with 1 Axes>"
            ]
          },
          "metadata": {
            "tags": [],
            "needs_background": "light"
          }
        }
      ]
    },
    {
      "cell_type": "markdown",
      "metadata": {
        "id": "ZR3ydZCeve4t"
      },
      "source": [
        "*Despite most sales happening on Tuesdays, there is really no much difference in the amount of sales for each day of the week.*"
      ]
    },
    {
      "cell_type": "code",
      "metadata": {
        "colab": {
          "base_uri": "https://localhost:8080/"
        },
        "id": "6ZNZXFCLld4k",
        "outputId": "fca1dc90-c625-4ea3-fc05-6d140fa589d3"
      },
      "source": [
        "df.columns"
      ],
      "execution_count": 143,
      "outputs": [
        {
          "output_type": "execute_result",
          "data": {
            "text/plain": [
              "Index(['order_id', 'product_name', 'quantity_ordered', 'unit_price', 'date',\n",
              "       'month', 'dow', 'total_price', 'street', 'state', 'postal_code'],\n",
              "      dtype='object')"
            ]
          },
          "metadata": {
            "tags": []
          },
          "execution_count": 143
        }
      ]
    },
    {
      "cell_type": "code",
      "metadata": {
        "id": "uvKmz3u207Id"
      },
      "source": [
        ""
      ],
      "execution_count": null,
      "outputs": []
    },
    {
      "cell_type": "markdown",
      "metadata": {
        "id": "oJwcXz4s098I"
      },
      "source": [
        "##### Product Analysis:\n",
        "Questions:\n",
        "  - which is the most frequently ordered product?\n",
        "  - which products generated the highest and lowest sales\n",
        "  -what is the popularity of the products by state?"
      ]
    },
    {
      "cell_type": "code",
      "metadata": {
        "colab": {
          "base_uri": "https://localhost:8080/",
          "height": 550
        },
        "id": "GjyXYWkG2Byp",
        "outputId": "b7b47032-5c02-459d-e608-748ee0e916ab"
      },
      "source": [
        "sns.catplot(y='product_name', data=df, kind='count', height=7, aspect=2, palette=palette)\n",
        "plt.title('count of products sold', {'fontsize':18, 'color':'green'});"
      ],
      "execution_count": 174,
      "outputs": [
        {
          "output_type": "display_data",
          "data": {
            "image/png": "[encoded data removed]",
            "text/plain": [
              "<Figure size 1008x504 with 1 Axes>"
            ]
          },
          "metadata": {
            "tags": [],
            "needs_background": "light"
          }
        }
      ]
    },
    {
      "cell_type": "code",
      "metadata": {
        "id": "sJ9eKaXJ2rsv"
      },
      "source": [
        "prod_sales = df.groupby('product_name', as_index=False)['total_price'].sum().sort_values(by='total_price', ascending=False)"
      ],
      "execution_count": 183,
      "outputs": []
    },
    {
      "cell_type": "code",
      "metadata": {
        "colab": {
          "base_uri": "https://localhost:8080/",
          "height": 537
        },
        "id": "Qd2vorEa5s0S",
        "outputId": "54def937-0fca-4ec9-c90e-040901ccf8ff"
      },
      "source": [
        "sns.catplot(y='product_name', x='total_price', data=prod_sales, kind='bar', height=7, aspect=2, palette=palette)\n",
        "plt.title('Yearly sales per product', {'fontsize':18, 'color':'green'})\n",
        "plt.xlabel('Yearly Sales');"
      ],
      "execution_count": 186,
      "outputs": [
        {
          "output_type": "display_data",
          "data": {
            "image/png": "[encoded data removed]",
            "text/plain": [
              "<Figure size 1008x504 with 1 Axes>"
            ]
          },
          "metadata": {
            "tags": [],
            "needs_background": "light"
          }
        }
      ]
    },
    {
      "cell_type": "markdown",
      "metadata": {
        "id": "Gw3RyQ0b9HMj"
      },
      "source": [
        "*the Macbook Pro Laptop generated the most sales in th year.*"
      ]
    },
    {
      "cell_type": "code",
      "metadata": {
        "id": "ijaBDmV47vNi"
      },
      "source": [
        "prod_state = df.pivot_table(values='total_price', index='product_name', columns='state', aggfunc='sum') #.sum().sort_values(by='total_price', ascending=False)"
      ],
      "execution_count": 196,
      "outputs": []
    },
    {
      "cell_type": "code",
      "metadata": {
        "colab": {
          "base_uri": "https://localhost:8080/",
          "height": 469
        },
        "id": "fgirweH69xb3",
        "outputId": "aee5aad6-6f14-4085-ddbf-46b52f177430"
      },
      "source": [
        "plt.figure(figsize=(12,6))\n",
        "sns.heatmap(prod_state, cmap='RdYlGn', linewidths=0.3, linecolor='white', cbar_kws={\"shrink\": .8},)\n",
        "plt.title('Product sales by state', {'fontsize':18, 'color':'green'});"
      ],
      "execution_count": 233,
      "outputs": [
        {
          "output_type": "display_data",
          "data": {
            "image/png": "[encoded data removed]",
            "text/plain": [
              "<Figure size 864x432 with 2 Axes>"
            ]
          },
          "metadata": {
            "tags": [],
            "needs_background": "light"
          }
        }
      ]
    },
    {
      "cell_type": "markdown",
      "metadata": {
        "id": "zJBW8_xIJkH-"
      },
      "source": [
        "#### Location Analysis:\n",
        "Question:-\n",
        "  - what is the sales trend per state ?\n",
        "  \n"
      ]
    },
    {
      "cell_type": "code",
      "metadata": {
        "id": "vfOZaYHkEwT5"
      },
      "source": [
        "state_sales = df.groupby(['month', 'state'], as_index=False)['total_price'].sum()"
      ],
      "execution_count": 251,
      "outputs": []
    },
    {
      "cell_type": "code",
      "metadata": {
        "colab": {
          "base_uri": "https://localhost:8080/",
          "height": 419
        },
        "id": "2Q07tjbhLKNU",
        "outputId": "ac61dd4d-82f4-4c6b-9ded-f19bed93b1c6"
      },
      "source": [
        "state_sales.sum()"
      ],
      "execution_count": 250,
      "outputs": [
        {
          "output_type": "execute_result",
          "data": {
            "text/html": [
              "<div>\n",
              "<style scoped>\n",
              "    .dataframe tbody tr th:only-of-type {\n",
              "        vertical-align: middle;\n",
              "    }\n",
              "\n",
              "    .dataframe tbody tr th {\n",
              "        vertical-align: top;\n",
              "    }\n",
              "\n",
              "    .dataframe thead th {\n",
              "        text-align: right;\n",
              "    }\n",
              "</style>\n",
              "<table border=\"1\" class=\"dataframe\">\n",
              "  <thead>\n",
              "    <tr style=\"text-align: right;\">\n",
              "      <th></th>\n",
              "      <th>month</th>\n",
              "      <th>state</th>\n",
              "      <th>total_price</th>\n",
              "    </tr>\n",
              "  </thead>\n",
              "  <tbody>\n",
              "    <tr>\n",
              "      <th>0</th>\n",
              "      <td>Apr</td>\n",
              "      <td>Atlanta</td>\n",
              "      <td>284422.01</td>\n",
              "    </tr>\n",
              "    <tr>\n",
              "      <th>1</th>\n",
              "      <td>Apr</td>\n",
              "      <td>Austin</td>\n",
              "      <td>172683.59</td>\n",
              "    </tr>\n",
              "    <tr>\n",
              "      <th>2</th>\n",
              "      <td>Apr</td>\n",
              "      <td>Boston</td>\n",
              "      <td>353392.17</td>\n",
              "    </tr>\n",
              "    <tr>\n",
              "      <th>3</th>\n",
              "      <td>Apr</td>\n",
              "      <td>Dallas</td>\n",
              "      <td>251235.54</td>\n",
              "    </tr>\n",
              "    <tr>\n",
              "      <th>4</th>\n",
              "      <td>Apr</td>\n",
              "      <td>Los Angeles</td>\n",
              "      <td>550080.29</td>\n",
              "    </tr>\n",
              "    <tr>\n",
              "      <th>...</th>\n",
              "      <td>...</td>\n",
              "      <td>...</td>\n",
              "      <td>...</td>\n",
              "    </tr>\n",
              "    <tr>\n",
              "      <th>103</th>\n",
              "      <td>Sept</td>\n",
              "      <td>Los Angeles</td>\n",
              "      <td>354075.69</td>\n",
              "    </tr>\n",
              "    <tr>\n",
              "      <th>104</th>\n",
              "      <td>Sept</td>\n",
              "      <td>New York City</td>\n",
              "      <td>300001.88</td>\n",
              "    </tr>\n",
              "    <tr>\n",
              "      <th>105</th>\n",
              "      <td>Sept</td>\n",
              "      <td>Portland</td>\n",
              "      <td>132556.49</td>\n",
              "    </tr>\n",
              "    <tr>\n",
              "      <th>106</th>\n",
              "      <td>Sept</td>\n",
              "      <td>San Francisco</td>\n",
              "      <td>462870.03</td>\n",
              "    </tr>\n",
              "    <tr>\n",
              "      <th>107</th>\n",
              "      <td>Sept</td>\n",
              "      <td>Seattle</td>\n",
              "      <td>156369.27</td>\n",
              "    </tr>\n",
              "  </tbody>\n",
              "</table>\n",
              "<p>108 rows × 3 columns</p>\n",
              "</div>"
            ],
            "text/plain": [
              "    month           state  total_price\n",
              "0     Apr         Atlanta    284422.01\n",
              "1     Apr          Austin    172683.59\n",
              "2     Apr          Boston    353392.17\n",
              "3     Apr          Dallas    251235.54\n",
              "4     Apr     Los Angeles    550080.29\n",
              "..    ...             ...          ...\n",
              "103  Sept     Los Angeles    354075.69\n",
              "104  Sept   New York City    300001.88\n",
              "105  Sept        Portland    132556.49\n",
              "106  Sept   San Francisco    462870.03\n",
              "107  Sept         Seattle    156369.27\n",
              "\n",
              "[108 rows x 3 columns]"
            ]
          },
          "metadata": {
            "tags": []
          },
          "execution_count": 250
        }
      ]
    },
    {
      "cell_type": "code",
      "metadata": {
        "colab": {
          "base_uri": "https://localhost:8080/",
          "height": 395
        },
        "id": "EBJRrbWALhOa",
        "outputId": "ef1bec22-e886-4c4b-a1df-84994f001adb"
      },
      "source": [
        "sns.relplot(x = 'month', y='total_price', data=state_sales, kind='line', hue='state', height=5, aspect=2 )\n",
        "plt.title('Monthly sales trend by state', {'fontsize':18, 'color':'green'});"
      ],
      "execution_count": 268,
      "outputs": [
        {
          "output_type": "display_data",
          "data": {
            "image/png": "[encoded data removed]",
            "text/plain": [
              "<Figure size 827.75x360 with 1 Axes>"
            ]
          },
          "metadata": {
            "tags": [],
            "needs_background": "light"
          }
        }
      ]
    },
    {
      "cell_type": "markdown",
      "metadata": {
        "id": "MDcGKcuNallL"
      },
      "source": [
        "*there is roughly equal pattern in sales seasonality across all states, with peaks in December and dips in January.*"
      ]
    },
    {
      "cell_type": "code",
      "metadata": {
        "id": "HPobJHMZUOJu"
      },
      "source": [
        "stategrp = df.groupby('state', as_index=False)['total_price'].sum().sort_values(by='total_price', ascending=False)"
      ],
      "execution_count": 262,
      "outputs": []
    },
    {
      "cell_type": "code",
      "metadata": {
        "id": "Gj_p894QVX9U"
      },
      "source": [
        "stategrp"
      ],
      "execution_count": null,
      "outputs": []
    },
    {
      "cell_type": "code",
      "metadata": {
        "colab": {
          "base_uri": "https://localhost:8080/",
          "height": 395
        },
        "id": "uIHzVm4qVeVD",
        "outputId": "1c343052-6a91-4c30-c04d-af4bec01f2b3"
      },
      "source": [
        "sns.catplot(x='state', y='total_price', data=stategrp, kind='bar', height=5, aspect=2, ci=None)\n",
        "plt.xlabel('total sales')\n",
        "plt.ylabel('')\n",
        "plt.title('Total sales by state', {'fontsize':18, 'color':'green'});"
      ],
      "execution_count": 267,
      "outputs": [
        {
          "output_type": "display_data",
          "data": {
            "image/png": "[encoded data removed]",
            "text/plain": [
              "<Figure size 720x360 with 1 Axes>"
            ]
          },
          "metadata": {
            "tags": [],
            "needs_background": "light"
          }
        }
      ]
    },
    {
      "cell_type": "markdown",
      "metadata": {
        "id": "VzMeZ6X-Yh_t"
      },
      "source": [
        "### CONCLUSION:\n",
        "  - The company made a total sales of $34,464,532 in the given year\n",
        "  - Most sales was made in Decemeber, while January was the worst state for business\n",
        "  - Sales was above monthly average in only 5 months of the year - May, Nov, April, Oct, and December\n",
        "  - Most sales came from San francisco, Austin was not performing well in terms of sales"
      ]
    },
    {
      "cell_type": "code",
      "metadata": {
        "id": "szrLP4vnVvBl"
      },
      "source": [
        ""
      ],
      "execution_count": null,
      "outputs": []
    }
  ]
}